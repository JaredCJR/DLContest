{
 "cells": [
  {
   "cell_type": "code",
   "execution_count": 1,
   "metadata": {},
   "outputs": [
    {
     "name": "stderr",
     "output_type": "stream",
     "text": [
      "/usr/lib/python3.6/importlib/_bootstrap.py:219: RuntimeWarning: compiletime version 3.5 of module 'tensorflow.python.framework.fast_tensor_util' does not match runtime version 3.6\n",
      "  return f(*args, **kwds)\n"
     ]
    }
   ],
   "source": [
    "import pandas as pd\n",
    "import os\n",
    "os.environ[\"CUDA_VISIBLE_DEVICES\"] = '0'\n",
    "import tensorflow as tf\n",
    "\n",
    "import scipy\n",
    "from scipy.io import loadmat\n",
    "import re\n",
    "\n",
    "import string\n",
    "import imageio\n",
    "import numpy as np\n",
    "import matplotlib.pyplot as plt\n",
    "from utils import *\n",
    "import random\n",
    "import time\n",
    "from tqdm import trange\n",
    "\n",
    "import warnings\n",
    "warnings.filterwarnings('ignore')"
   ]
  },
  {
   "cell_type": "code",
   "execution_count": 2,
   "metadata": {
    "scrolled": true
   },
   "outputs": [
    {
     "name": "stdout",
     "output_type": "stream",
     "text": [
      "there are 6375 vocabularies in total\n",
      "Word to id mapping, for example: flower -> 2428\n",
      "Id to word mapping, for example: 2428 -> flower\n",
      "Tokens: <PAD>: 6372; <RARE>: 6374\n"
     ]
    }
   ],
   "source": [
    "dictionary_path = './dictionary'\n",
    "vocab = np.load(dictionary_path + '/vocab.npy')\n",
    "print('there are {} vocabularies in total'.format(len(vocab)))\n",
    "\n",
    "word2Id_dict = dict(np.load(dictionary_path + '/word2Id.npy'))\n",
    "id2word_dict = dict(np.load(dictionary_path + '/id2Word.npy'))\n",
    "print('Word to id mapping, for example: %s -> %s' % ('flower',\n",
    "                                                     word2Id_dict['flower']))\n",
    "print('Id to word mapping, for example: %s -> %s' % ('2428',\n",
    "                                                     id2word_dict['2428']))\n",
    "print('Tokens: <PAD>: %s; <RARE>: %s' % (word2Id_dict['<PAD>'],\n",
    "                                         word2Id_dict['<RARE>']))\n"
   ]
  },
  {
   "cell_type": "code",
   "execution_count": 3,
   "metadata": {},
   "outputs": [
    {
     "name": "stdout",
     "output_type": "stream",
     "text": [
      "798\n",
      "1784\n"
     ]
    }
   ],
   "source": [
    "print (word2Id_dict['<ST>'])\n",
    "print (word2Id_dict['<ED>'])"
   ]
  },
  {
   "cell_type": "code",
   "execution_count": 4,
   "metadata": {},
   "outputs": [
    {
     "name": "stdout",
     "output_type": "stream",
     "text": [
      "There are 7370 image in training data\n"
     ]
    }
   ],
   "source": [
    "data_path = './dataset'\n",
    "df = pd.read_pickle(data_path + '/text2ImgData.pkl')\n",
    "num_training_sample = len(df)\n",
    "n_images_train = num_training_sample\n",
    "print('There are %d image in training data' % (n_images_train))"
   ]
  },
  {
   "cell_type": "code",
   "execution_count": 5,
   "metadata": {},
   "outputs": [
    {
     "name": "stdout",
     "output_type": "stream",
     "text": [
      "There are 7370 image in training data\n"
     ]
    }
   ],
   "source": [
    "df_img = df['ImagePath'].values\n",
    "print('There are %d image in training data' % (len(df_img)))"
   ]
  },
  {
   "cell_type": "code",
   "execution_count": 6,
   "metadata": {},
   "outputs": [],
   "source": [
    "df_caption = df['Captions'].values"
   ]
  },
  {
   "cell_type": "code",
   "execution_count": 7,
   "metadata": {
    "scrolled": true
   },
   "outputs": [
    {
     "name": "stdout",
     "output_type": "stream",
     "text": [
      "[['2435', '2428', '2505', '2431', '2444', '2427', '2433', '2434', '2530', '2444', '2449', '6372', '6372', '6372', '6372', '6372', '6372', '6372', '6372', '6372'], ['2430', '2428', '2431', '2427', '2436', '2432', '2444', '2429', '2510', '2448', '6372', '6372', '6372', '6372', '6372', '6372', '6372', '6372', '6372', '6372'], ['2430', '2428', '2431', '2451', '2429', '3361', '2468', '2427', '2433', '2483', '2461', '2439', '2696', '2503', '2445', '2444', '2429', '2611', '6372', '6372'], ['2430', '2442', '2434', '2452', '2428', '2433', '2451', '2444', '2427', '2453', '2467', '6372', '6372', '6372', '6372', '6372', '6372', '6372', '6372', '6372'], ['2435', '2428', '2431', '2427', '2436', '2432', '2487', '2444', '2433', '2434', '2449', '2522', '2448', '2427', '6372', '6372', '6372', '6372', '6372', '6372'], ['2430', '2428', '2431', '2444', '2429', '2440', '2427', '2436', '2527', '2434', '2510', '2448', '6372', '6372', '6372', '6372', '6372', '6372', '6372', '6372'], ['2430', '2428', '2431', '2434', '2462', '2444', '2478', '2559', '2433', '2434', '2444', '2547', '2448', '2427', '2480', '2467', '2449', '6372', '6372', '6372'], ['2518', '2428', '2432', '2444', '2433', '2451', '2576', '2427', '2429', '2729', '2449', '6372', '6372', '6372', '6372', '6372', '6372', '6372', '6372', '6372'], ['2430', '2428', '2431', '2451', '2444', '2729', '2427', '2429', '2462', '2447', '2459', '6372', '6372', '6372', '6372', '6372', '6372', '6372', '6372', '6372']]\n"
     ]
    }
   ],
   "source": [
    "print (df_caption[2])"
   ]
  },
  {
   "cell_type": "code",
   "execution_count": 8,
   "metadata": {},
   "outputs": [
    {
     "name": "stderr",
     "output_type": "stream",
     "text": [
      "100%|██████████| 7370/7370 [00:00<00:00, 22762.28it/s]\n"
     ]
    }
   ],
   "source": [
    "d_captions = []\n",
    "for i in trange(len(df_caption)):\n",
    "    caps = []\n",
    "    for caption in df_caption[i]:\n",
    "        cap = []\n",
    "        cap.append(word2Id_dict['<ST>'])\n",
    "        for word in caption:\n",
    "            cap.append(word)\n",
    "        cap.append(word2Id_dict['<ED>'])\n",
    "        caps.append(cap)\n",
    "    d_captions.append(caps)\n"
   ]
  },
  {
   "cell_type": "code",
   "execution_count": 9,
   "metadata": {},
   "outputs": [
    {
     "name": "stdout",
     "output_type": "stream",
     "text": [
      "<class 'numpy.ndarray'>\n",
      "(7370,)\n"
     ]
    }
   ],
   "source": [
    "d_captions = np.asarray(d_captions)\n",
    "print (type(df_img))\n",
    "print (d_captions.shape)"
   ]
  },
  {
   "cell_type": "code",
   "execution_count": 10,
   "metadata": {
    "scrolled": false
   },
   "outputs": [
    {
     "data": {
      "text/html": [
       "<div>\n",
       "<style scoped>\n",
       "    .dataframe tbody tr th:only-of-type {\n",
       "        vertical-align: middle;\n",
       "    }\n",
       "\n",
       "    .dataframe tbody tr th {\n",
       "        vertical-align: top;\n",
       "    }\n",
       "\n",
       "    .dataframe thead th {\n",
       "        text-align: right;\n",
       "    }\n",
       "</style>\n",
       "<table border=\"1\" class=\"dataframe\">\n",
       "  <thead>\n",
       "    <tr style=\"text-align: right;\">\n",
       "      <th></th>\n",
       "      <th>Captions</th>\n",
       "      <th>ImagePath</th>\n",
       "    </tr>\n",
       "  </thead>\n",
       "  <tbody>\n",
       "    <tr>\n",
       "      <th>0</th>\n",
       "      <td>[[798, 2430, 2428, 2431, 2427, 2436, 2432, 245...</td>\n",
       "      <td>/102flowers/image_08110.jpg</td>\n",
       "    </tr>\n",
       "    <tr>\n",
       "      <th>1</th>\n",
       "      <td>[[798, 2430, 2428, 2431, 2427, 2436, 2432, 244...</td>\n",
       "      <td>/102flowers/image_07749.jpg</td>\n",
       "    </tr>\n",
       "    <tr>\n",
       "      <th>2</th>\n",
       "      <td>[[798, 2435, 2428, 2505, 2431, 2444, 2427, 243...</td>\n",
       "      <td>/102flowers/image_04381.jpg</td>\n",
       "    </tr>\n",
       "    <tr>\n",
       "      <th>3</th>\n",
       "      <td>[[798, 2430, 2428, 2431, 2563, 2437, 2427, 243...</td>\n",
       "      <td>/102flowers/image_04518.jpg</td>\n",
       "    </tr>\n",
       "    <tr>\n",
       "      <th>4</th>\n",
       "      <td>[[798, 2435, 2428, 2427, 2432, 5409, 2429, 243...</td>\n",
       "      <td>/102flowers/image_07620.jpg</td>\n",
       "    </tr>\n",
       "    <tr>\n",
       "      <th>5</th>\n",
       "      <td>[[798, 2430, 2428, 2442, 2450, 2439, 2441, 243...</td>\n",
       "      <td>/102flowers/image_00724.jpg</td>\n",
       "    </tr>\n",
       "    <tr>\n",
       "      <th>6</th>\n",
       "      <td>[[798, 2428, 2433, 2438, 2427, 2429, 2487, 244...</td>\n",
       "      <td>/102flowers/image_00550.jpg</td>\n",
       "    </tr>\n",
       "    <tr>\n",
       "      <th>7</th>\n",
       "      <td>[[798, 2430, 2428, 2442, 2438, 2439, 2441, 243...</td>\n",
       "      <td>/102flowers/image_07209.jpg</td>\n",
       "    </tr>\n",
       "    <tr>\n",
       "      <th>8</th>\n",
       "      <td>[[798, 2428, 2431, 2427, 2436, 2432, 2440, 243...</td>\n",
       "      <td>/102flowers/image_02334.jpg</td>\n",
       "    </tr>\n",
       "    <tr>\n",
       "      <th>9</th>\n",
       "      <td>[[798, 2518, 2428, 2470, 2451, 2510, 2448, 242...</td>\n",
       "      <td>/102flowers/image_07389.jpg</td>\n",
       "    </tr>\n",
       "  </tbody>\n",
       "</table>\n",
       "</div>"
      ],
      "text/plain": [
       "                                            Captions  \\\n",
       "0  [[798, 2430, 2428, 2431, 2427, 2436, 2432, 245...   \n",
       "1  [[798, 2430, 2428, 2431, 2427, 2436, 2432, 244...   \n",
       "2  [[798, 2435, 2428, 2505, 2431, 2444, 2427, 243...   \n",
       "3  [[798, 2430, 2428, 2431, 2563, 2437, 2427, 243...   \n",
       "4  [[798, 2435, 2428, 2427, 2432, 5409, 2429, 243...   \n",
       "5  [[798, 2430, 2428, 2442, 2450, 2439, 2441, 243...   \n",
       "6  [[798, 2428, 2433, 2438, 2427, 2429, 2487, 244...   \n",
       "7  [[798, 2430, 2428, 2442, 2438, 2439, 2441, 243...   \n",
       "8  [[798, 2428, 2431, 2427, 2436, 2432, 2440, 243...   \n",
       "9  [[798, 2518, 2428, 2470, 2451, 2510, 2448, 242...   \n",
       "\n",
       "                     ImagePath  \n",
       "0  /102flowers/image_08110.jpg  \n",
       "1  /102flowers/image_07749.jpg  \n",
       "2  /102flowers/image_04381.jpg  \n",
       "3  /102flowers/image_04518.jpg  \n",
       "4  /102flowers/image_07620.jpg  \n",
       "5  /102flowers/image_00724.jpg  \n",
       "6  /102flowers/image_00550.jpg  \n",
       "7  /102flowers/image_07209.jpg  \n",
       "8  /102flowers/image_02334.jpg  \n",
       "9  /102flowers/image_07389.jpg  "
      ]
     },
     "execution_count": 10,
     "metadata": {},
     "output_type": "execute_result"
    }
   ],
   "source": [
    "df_ = pd.DataFrame({\n",
    "    'Captions': d_captions,\n",
    "    'ImagePath': df_img                \n",
    "})\n",
    "\n",
    "df_.head(10)"
   ]
  },
  {
   "cell_type": "code",
   "execution_count": 11,
   "metadata": {
    "scrolled": true
   },
   "outputs": [
    {
     "data": {
      "text/html": [
       "<div>\n",
       "<style scoped>\n",
       "    .dataframe tbody tr th:only-of-type {\n",
       "        vertical-align: middle;\n",
       "    }\n",
       "\n",
       "    .dataframe tbody tr th {\n",
       "        vertical-align: top;\n",
       "    }\n",
       "\n",
       "    .dataframe thead th {\n",
       "        text-align: right;\n",
       "    }\n",
       "</style>\n",
       "<table border=\"1\" class=\"dataframe\">\n",
       "  <thead>\n",
       "    <tr style=\"text-align: right;\">\n",
       "      <th></th>\n",
       "      <th>Captions</th>\n",
       "      <th>ImagePath</th>\n",
       "    </tr>\n",
       "  </thead>\n",
       "  <tbody>\n",
       "    <tr>\n",
       "      <th>1855</th>\n",
       "      <td>[[2430, 2428, 2431, 2427, 2436, 2432, 2450, 24...</td>\n",
       "      <td>/102flowers/image_08110.jpg</td>\n",
       "    </tr>\n",
       "    <tr>\n",
       "      <th>6790</th>\n",
       "      <td>[[2430, 2428, 2431, 2427, 2436, 2432, 2440, 24...</td>\n",
       "      <td>/102flowers/image_07749.jpg</td>\n",
       "    </tr>\n",
       "    <tr>\n",
       "      <th>7908</th>\n",
       "      <td>[[2435, 2428, 2505, 2431, 2444, 2427, 2433, 24...</td>\n",
       "      <td>/102flowers/image_04381.jpg</td>\n",
       "    </tr>\n",
       "    <tr>\n",
       "      <th>1805</th>\n",
       "      <td>[[2430, 2428, 2431, 2563, 2437, 2427, 2433, 24...</td>\n",
       "      <td>/102flowers/image_04518.jpg</td>\n",
       "    </tr>\n",
       "    <tr>\n",
       "      <th>5679</th>\n",
       "      <td>[[2435, 2428, 2427, 2432, 5409, 2429, 2432, 24...</td>\n",
       "      <td>/102flowers/image_07620.jpg</td>\n",
       "    </tr>\n",
       "    <tr>\n",
       "      <th>432</th>\n",
       "      <td>[[2430, 2428, 2442, 2450, 2439, 2441, 2433, 24...</td>\n",
       "      <td>/102flowers/image_00724.jpg</td>\n",
       "    </tr>\n",
       "    <tr>\n",
       "      <th>4679</th>\n",
       "      <td>[[2428, 2433, 2438, 2427, 2429, 2487, 2440, 36...</td>\n",
       "      <td>/102flowers/image_00550.jpg</td>\n",
       "    </tr>\n",
       "    <tr>\n",
       "      <th>4880</th>\n",
       "      <td>[[2430, 2428, 2442, 2438, 2439, 2441, 2433, 24...</td>\n",
       "      <td>/102flowers/image_07209.jpg</td>\n",
       "    </tr>\n",
       "    <tr>\n",
       "      <th>2164</th>\n",
       "      <td>[[2428, 2431, 2427, 2436, 2432, 2440, 2433, 24...</td>\n",
       "      <td>/102flowers/image_02334.jpg</td>\n",
       "    </tr>\n",
       "    <tr>\n",
       "      <th>5771</th>\n",
       "      <td>[[2518, 2428, 2470, 2451, 2510, 2448, 2427, 24...</td>\n",
       "      <td>/102flowers/image_07389.jpg</td>\n",
       "    </tr>\n",
       "  </tbody>\n",
       "</table>\n",
       "</div>"
      ],
      "text/plain": [
       "                                               Captions  \\\n",
       "1855  [[2430, 2428, 2431, 2427, 2436, 2432, 2450, 24...   \n",
       "6790  [[2430, 2428, 2431, 2427, 2436, 2432, 2440, 24...   \n",
       "7908  [[2435, 2428, 2505, 2431, 2444, 2427, 2433, 24...   \n",
       "1805  [[2430, 2428, 2431, 2563, 2437, 2427, 2433, 24...   \n",
       "5679  [[2435, 2428, 2427, 2432, 5409, 2429, 2432, 24...   \n",
       "432   [[2430, 2428, 2442, 2450, 2439, 2441, 2433, 24...   \n",
       "4679  [[2428, 2433, 2438, 2427, 2429, 2487, 2440, 36...   \n",
       "4880  [[2430, 2428, 2442, 2438, 2439, 2441, 2433, 24...   \n",
       "2164  [[2428, 2431, 2427, 2436, 2432, 2440, 2433, 24...   \n",
       "5771  [[2518, 2428, 2470, 2451, 2510, 2448, 2427, 24...   \n",
       "\n",
       "                        ImagePath  \n",
       "1855  /102flowers/image_08110.jpg  \n",
       "6790  /102flowers/image_07749.jpg  \n",
       "7908  /102flowers/image_04381.jpg  \n",
       "1805  /102flowers/image_04518.jpg  \n",
       "5679  /102flowers/image_07620.jpg  \n",
       "432   /102flowers/image_00724.jpg  \n",
       "4679  /102flowers/image_00550.jpg  \n",
       "4880  /102flowers/image_07209.jpg  \n",
       "2164  /102flowers/image_02334.jpg  \n",
       "5771  /102flowers/image_07389.jpg  "
      ]
     },
     "execution_count": 11,
     "metadata": {},
     "output_type": "execute_result"
    }
   ],
   "source": [
    "df.head(10)"
   ]
  },
  {
   "cell_type": "code",
   "execution_count": 12,
   "metadata": {},
   "outputs": [],
   "source": [
    "df_.to_csv(data_path + '/text_ImgPath.csv', index=False)"
   ]
  },
  {
   "cell_type": "markdown",
   "metadata": {},
   "source": [
    "# Pretrain RNN"
   ]
  },
  {
   "cell_type": "code",
   "execution_count": 13,
   "metadata": {},
   "outputs": [],
   "source": [
    "def data_iterator_rnn(filenames, batch_size):\n",
    "    captions = df_['Captions'].values\n",
    "    caption = []\n",
    "    \n",
    "    for _ in range(3):\n",
    "        for i in range(len(captions)):\n",
    "            caption.append(random.choice(captions[i]))\n",
    "    caption = np.asarray(caption)\n",
    "    \n",
    "    dataset = tf.data.Dataset.from_tensor_slices((caption))\n",
    "    dataset = dataset.repeat()\n",
    "    dataset = dataset.batch(batch_size)\n",
    "    \n",
    "    iterator = dataset.make_initializable_iterator()\n",
    "    output_types = dataset.output_types\n",
    "    output_shapes = dataset.output_shapes\n",
    "    \n",
    "    return iterator, output_types, output_shapes"
   ]
  },
  {
   "cell_type": "code",
   "execution_count": 14,
   "metadata": {},
   "outputs": [],
   "source": [
    "class Rnn(object):\n",
    "    def __init__(self, hparas, training_phase=True, reuse=False, return_embed=False):\n",
    "        self.hparas = hparas\n",
    "        self.training_phase = training_phase\n",
    "        self.return_embed = return_embed\n",
    "        self.reuse = reuse\n",
    "        self.sess = tf.Session()\n",
    "        \n",
    "        self._build_model()\n",
    "        \n",
    "    def _build_model(self):\n",
    "        \n",
    "        with tf.variable_scope('rnnftxt', reuse=self.reuse):\n",
    "            # if self.training_phase:\n",
    "            self.word_embed_matrix = tf.get_variable(\n",
    "                'rnn/wordembed',\n",
    "                shape=(self.hparas['VOCAB_SIZE'], self.hparas['EMBED_DIM']),\n",
    "                initializer=tf.random_normal_initializer(stddev=0.02),\n",
    "                dtype=tf.float32)\n",
    "            #else:\n",
    "            #    self.word_embed_matrix = tf.Variable(self.embed_matrix)\n",
    "                \n",
    "            self.text = tf.placeholder(dtype=tf.int64, shape=[hparas['BATCH_SIZE'], None], name='caption')\n",
    "            embedded_word_ids = tf.nn.embedding_lookup(self.word_embed_matrix, self.text)\n",
    "            embedded_word_ref = tf.nn.embedding_lookup(self.word_embed_matrix, self.text)\n",
    "            \n",
    "            # seq = tf.one_hot(self.seq, 22)\n",
    "        with tf.variable_scope('rnncell', reuse=self.reuse):\n",
    "            LSTMCell = tf.contrib.rnn.BasicLSTMCell(\n",
    "                self.hparas['TEXT_DIM'],\n",
    "                reuse=self.reuse)\n",
    "            initial_state = LSTMCell.zero_state(\n",
    "                self.hparas['BATCH_SIZE'],\n",
    "                dtype=tf.float32)\n",
    "            rnn_net = tf.nn.dynamic_rnn(\n",
    "                cell=LSTMCell,\n",
    "                inputs=embedded_word_ids,\n",
    "                initial_state=initial_state,\n",
    "                dtype=tf.float32,\n",
    "                time_major=False,\n",
    "                scope='rnn/dynamic')\n",
    "            self.rnn_net = rnn_net\n",
    "            self.outputs_last = rnn_net[0][:, -1, :]\n",
    "            self.outputs = rnn_net[0]\n",
    "        \n",
    "        \n",
    "        \n",
    "        if self.training_phase:\n",
    "            with tf.variable_scope('rnn/logits'):\n",
    "                self.logits = tf.contrib.layers.fully_connected(\n",
    "                    self.outputs, \n",
    "                    self.hparas['TEXT_DIM'], \n",
    "                    None)\n",
    "                \n",
    "            with tf.variable_scope('rnn/loss'):\n",
    "                self.loss = tf.reduce_sum(\n",
    "                    tf.nn.softmax_cross_entropy_with_logits(\n",
    "                    logits=self.logits[:, :-1], \n",
    "                    labels=embedded_word_ref[:, 1:]))\n",
    "            \n",
    "            with tf.variable_scope('rnn/optim'):\n",
    "                self.optim = tf.train.AdamOptimizer(self.hparas['LR'], beta1=self.hparas['BETA']) \\\n",
    "                                        .minimize(self.loss)\n",
    "            \n",
    "        \n",
    "        self.sess = tf.Session()\n",
    "        self.saver = tf.train.Saver()\n",
    "        self.global_step = tf.train.get_or_create_global_step()\n",
    "        self.sess.run(tf.global_variables_initializer()) \n",
    "            \n",
    "        \n",
    "    def train(self, iterator_train):\n",
    "        \n",
    "        self.sess.run(iterator_train.initializer)\n",
    "        \n",
    "        self.losses = []\n",
    "        for _epoch in trange(self.hparas['N_EPOCH']):\n",
    "            start_time = time.time()\n",
    "            \n",
    "            epoch_loss = 0\n",
    "            for _step in range(100):\n",
    "                next_element = iterator_train.get_next()\n",
    "                text = self.sess.run(next_element)\n",
    "                \n",
    "                loss, _ = self.sess.run([self.loss, self.optim],\n",
    "                                        feed_dict={\n",
    "                                            self.text: text\n",
    "                                        })\n",
    "                epoch_loss += loss\n",
    "            self.losses.append(epoch_loss)\n",
    "            \n",
    "        self.save(self.global_step)\n",
    "        \n",
    "    def inference(self, text):\n",
    "        output_embedded = self.sess.run(self.outputs_last, feed_dict={self.text: text})\n",
    "        return output_embedded\n",
    "        \n",
    "    \n",
    "    def save(self, global_step):\n",
    "        gs = global_step.eval(self.sess)\n",
    "        self.saver.save(self.sess, 'model/' + 'preTrainRnn.ckpt', global_step=gs)\n",
    "\n",
    "    def restore(self):\n",
    "        ckpt = tf.train.get_checkpoint_state('./model')\n",
    "        if ckpt and ckpt.model_checkpoint_path:\n",
    "            print (ckpt.model_checkpoint_path)\n",
    "            self.saver.restore(self.sess, ckpt.model_checkpoint_path)\n",
    "        return self.sess"
   ]
  },
  {
   "cell_type": "code",
   "execution_count": 15,
   "metadata": {},
   "outputs": [],
   "source": [
    "def get_hparas():\n",
    "    hparas = {\n",
    "        'MAX_SEQ_LENGTH': 22,\n",
    "        'EMBED_DIM': 64,  # word embedding dimension\n",
    "        'VOCAB_SIZE': len(vocab),\n",
    "        'TEXT_DIM': 64,  # text embrdding dimension\n",
    "        'RNN_HIDDEN_SIZE': 64,\n",
    "        'Z_DIM': 64,  # random noise z dimension\n",
    "        'IMAGE_SIZE': [64, 64, 3],  # render image size\n",
    "        'BATCH_SIZE': 64,\n",
    "        'LR': 0.00002,\n",
    "        'DECAY_EVERY': 100,\n",
    "        'LR_DECAY': 0.5,\n",
    "        'BETA': 0.5,  # AdamOptimizer parameter\n",
    "        'N_EPOCH': 100,\n",
    "        'N_SAMPLE': num_training_sample\n",
    "    }\n",
    "    return hparas"
   ]
  },
  {
   "cell_type": "code",
   "execution_count": 16,
   "metadata": {},
   "outputs": [
    {
     "name": "stderr",
     "output_type": "stream",
     "text": [
      "100%|██████████| 100/100 [47:55<00:00, 37.57s/it]\n"
     ]
    }
   ],
   "source": [
    "tf.reset_default_graph()\n",
    "BATCH_SIZE = 64\n",
    "iterator_train, types, shapes = data_iterator_rnn(\n",
    "    data_path + '/text2ImgData.pkl', BATCH_SIZE)\n",
    "# iter_initializer = iterator_train.initializer\n",
    "\n",
    "hparas = get_hparas()\n",
    "caption = tf.placeholder(dtype=tf.int64, shape=[hparas['BATCH_SIZE'], None], name='caption')\n",
    "text_encoder = Rnn(hparas=hparas, training_phase=True, reuse=False)\n",
    "\n",
    "text_encoder.train(iterator_train)"
   ]
  },
  {
   "cell_type": "code",
   "execution_count": 17,
   "metadata": {
    "scrolled": true
   },
   "outputs": [
    {
     "data": {
      "image/png": "[encoded data removed]",
      "text/plain": [
       "<matplotlib.figure.Figure at 0x7f9e40f52080>"
      ]
     },
     "metadata": {},
     "output_type": "display_data"
    }
   ],
   "source": [
    "import matplotlib.pyplot as plt\n",
    "\n",
    "plt_loss = plt.plot([text_encoder.losses[i] for i in range(len(text_encoder.losses))])\n",
    "plt.legend(['Loss'])\n",
    "plt.show()"
   ]
  },
  {
   "cell_type": "code",
   "execution_count": null,
   "metadata": {
    "scrolled": true
   },
   "outputs": [],
   "source": [
    "hparas = get_hparas()\n",
    "\n",
    "tf.reset_default_graph()\n",
    "t2 = Rnn(hparas=hparas, training_phase=False, reuse=False)\n",
    "t2.restore()\n",
    "\n",
    "# assert(t2.word_embed_matrix == text_encoder.word_embed_matrix)"
   ]
  },
  {
   "cell_type": "code",
   "execution_count": null,
   "metadata": {},
   "outputs": [],
   "source": [
    "BATCH_SIZE = 64\n",
    "iterator_train, types, shapes = data_iterator_rnn(\n",
    "    data_path + '/text2ImgData.pkl', BATCH_SIZE)\n",
    "\n",
    "iter_initializer = iterator_train.initializer\n",
    "next_element = iterator_train.get_next()\n",
    "t2.sess.run(iter_initializer)\n",
    "text = t2.sess.run(next_element)\n",
    "output = t2.sess.run(t2.outputs_last, feed_dict={t2.text: text})\n",
    "    \n",
    "print (output)"
   ]
  },
  {
   "cell_type": "code",
   "execution_count": null,
   "metadata": {},
   "outputs": [],
   "source": [
    "print (text)"
   ]
  },
  {
   "cell_type": "code",
   "execution_count": null,
   "metadata": {
    "scrolled": true
   },
   "outputs": [],
   "source": [
    "ot = t2.inference(text)"
   ]
  },
  {
   "cell_type": "code",
   "execution_count": null,
   "metadata": {
    "scrolled": false
   },
   "outputs": [],
   "source": [
    "for i in range(ot.shape[0]):\n",
    "    for k in range(ot.shape[1]):\n",
    "        assert (ot[i][k] == output[i][k])"
   ]
  },
  {
   "cell_type": "code",
   "execution_count": null,
   "metadata": {
    "scrolled": true
   },
   "outputs": [],
   "source": [
    "print (range(i))"
   ]
  },
  {
   "cell_type": "code",
   "execution_count": null,
   "metadata": {},
   "outputs": [],
   "source": [
    "eb = tf.Variable(wd)"
   ]
  },
  {
   "cell_type": "code",
   "execution_count": null,
   "metadata": {},
   "outputs": [],
   "source": [
    "print (type(eb))"
   ]
  },
  {
   "cell_type": "code",
   "execution_count": null,
   "metadata": {
    "scrolled": true
   },
   "outputs": [],
   "source": [
    "assert (t2.word_embed_matrix == eb)"
   ]
  },
  {
   "cell_type": "code",
   "execution_count": null,
   "metadata": {},
   "outputs": [],
   "source": [
    "print (eb.shape)\n",
    "print (t2.word_embed_matrix.shape)"
   ]
  },
  {
   "cell_type": "code",
   "execution_count": 19,
   "metadata": {},
   "outputs": [],
   "source": [
    "# t2.sess.close()\n",
    "text_encoder.sess.close()"
   ]
  },
  {
   "cell_type": "code",
   "execution_count": null,
   "metadata": {},
   "outputs": [],
   "source": []
  }
 ],
 "metadata": {
  "kernelspec": {
   "display_name": "Python 3",
   "language": "python",
   "name": "python3"
  },
  "language_info": {
   "codemirror_mode": {
    "name": "ipython",
    "version": 3
   },
   "file_extension": ".py",
   "mimetype": "text/x-python",
   "name": "python",
   "nbconvert_exporter": "python",
   "pygments_lexer": "ipython3",
   "version": "3.6.3"
  }
 },
 "nbformat": 4,
 "nbformat_minor": 2
}
