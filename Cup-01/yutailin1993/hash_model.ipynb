{
 "cells": [
  {
   "cell_type": "code",
   "execution_count": 1,
   "metadata": {
    "collapsed": true
   },
   "outputs": [],
   "source": [
    "import numpy as np\n",
    "import random\n",
    "from wordPreprocess import WordPreprocess\n",
    "from gensim.models import word2vec"
   ]
  },
  {
   "cell_type": "code",
   "execution_count": 2,
   "metadata": {},
   "outputs": [
    {
     "name": "stdout",
     "output_type": "stream",
     "text": [
      "Finished 100000 of lines\n",
      "Finished 200000 of lines\n",
      "Finished 300000 of lines\n",
      "Finished 400000 of lines\n",
      "Finished 500000 of lines\n",
      "Finished 600000 of lines\n",
      "Finished 700000 of lines\n",
      "Finished 800000 of lines\n",
      "Finished 900000 of lines\n",
      "Finished 1000000 of lines\n",
      "Finished 1100000 of lines\n",
      "Finished 1200000 of lines\n",
      "Finished 1300000 of lines\n",
      "Finished 1400000 of lines\n",
      "Finished 1500000 of lines\n",
      "Finished 1600000 of lines\n",
      "Finished 1700000 of lines\n",
      "Finished 1800000 of lines\n",
      "Finished 1900000 of lines\n",
      "Finished 2000000 of lines\n",
      "Finished 2100000 of lines\n",
      "Finished 2200000 of lines\n",
      "Finished 2300000 of lines\n",
      "Finished 2400000 of lines\n"
     ]
    }
   ],
   "source": [
    "programs_questions = []\n",
    "num_lines = 0\n",
    "with open('program_quesiton2.txt', 'r') as inFile:\n",
    "    for line in inFile:\n",
    "        programs_questions.append(line.strip('\\n'))\n",
    "        num_lines += 1\n",
    "        \n",
    "        if num_lines % 100000 == 0:\n",
    "            print (\"Finished %d of lines\" % num_lines)\n",
    "\n",
    "word2vec_model = word2vec.Word2Vec.load('word2vec_model2.bin')"
   ]
  },
  {
   "cell_type": "markdown",
   "metadata": {},
   "source": [
    "word_preprocess = WordPreprocess()\n",
    "doc_hash = word_preprocess.hash_transform(programs_questions, num_feature=2**7)\n",
    "print (doc_hash.shape)"
   ]
  },
  {
   "cell_type": "code",
   "execution_count": 3,
   "metadata": {
    "collapsed": true
   },
   "outputs": [],
   "source": [
    "doc_vec = []\n",
    "\n",
    "for sentence in programs_questions:\n",
    "    words = sentence.split(' ')[:-1]\n",
    "    vec = np.zeros(shape=(250,), dtype=float)\n",
    "    count = 0\n",
    "    for w in words:\n",
    "        try:\n",
    "            vec += word2vec_model.wv[w]\n",
    "            count += 1\n",
    "        except KeyError:\n",
    "            pass\n",
    "        \n",
    "    #if (count > 0):\n",
    "    #    vec /= count\n",
    "    doc_vec.append(vec)"
   ]
  },
  {
   "cell_type": "code",
   "execution_count": 4,
   "metadata": {
    "collapsed": true
   },
   "outputs": [],
   "source": [
    "programs = programs_questions[:2396906]\n",
    "questions = programs_questions[2396906:]\n",
    "\n",
    "programs_vec = doc_vec[:2396906]\n",
    "questions_vec = doc_vec[2396906:]"
   ]
  },
  {
   "cell_type": "code",
   "execution_count": 11,
   "metadata": {
    "collapsed": true
   },
   "outputs": [],
   "source": [
    "def generate_training_data():\n",
    "    Xs, Ys = [], []\n",
    "    NUM_TRAIN = 500000\n",
    "    itr = 0\n",
    "    \n",
    "    while (itr < NUM_TRAIN):\n",
    "        pos_or_neg = random.randint(0,1)\n",
    "        \n",
    "        if pos_or_neg is 1:\n",
    "            line_id = random.randint(0, len(programs)-1)\n",
    "            \n",
    "            L1 = programs[line_id].split(' ')[:-1]\n",
    "            L2 = programs[line_id+1].split(' ')[:-1]\n",
    "            \n",
    "            if (not not L1 and not not L2):\n",
    "                try:\n",
    "                    Ys.append(word2vec_model.n_similarity(L1, L2))\n",
    "                    Xs.append([programs_vec[line_id], programs_vec[line_id+1]])\n",
    "                    itr += 1\n",
    "                except KeyError:\n",
    "                    pass\n",
    "            \n",
    "        else:\n",
    "            line1_id = random.randint(0, len(programs)-1)\n",
    "            line2_id = random.randint(0, len(programs)-1)\n",
    "            \n",
    "            L1 = programs[line1_id].split(' ')[:-1]\n",
    "            L2 = programs[line2_id].split(' ')[:-1]\n",
    "            \n",
    "            if (not not L1 and not not L2):\n",
    "                try:\n",
    "                    Ys.append(word2vec_model.n_similarity(L1, L2))\n",
    "                    Xs.append([programs_vec[line1_id], programs_vec[line2_id]])\n",
    "                    itr += 1\n",
    "                except KeyError:\n",
    "                    pass\n",
    "            \n",
    "    return Xs, Ys"
   ]
  },
  {
   "cell_type": "code",
   "execution_count": 12,
   "metadata": {},
   "outputs": [
    {
     "name": "stdout",
     "output_type": "stream",
     "text": [
      "[[ -2.31382322  -0.44065855   0.21759067 ...,  -0.43714296   0.31325008\n",
      "    3.50430579]\n",
      " [ -7.46128528  -2.08195015  -0.69110731 ...,  -4.67145798  -2.13019301\n",
      "   -1.65524331]\n",
      " [-13.63056149  -3.83302283  -3.01976722 ...,  -8.44428488  -9.33636402\n",
      "    2.20747711]\n",
      " ..., \n",
      " [ -1.12300221   1.06858695  -1.61439244 ...,  -2.55131452   2.0256753\n",
      "   -2.1459115 ]\n",
      " [ -4.3073566   -0.13796829   2.30420542 ...,  -0.87576938  -5.03541787\n",
      "    3.69778971]\n",
      " [ -0.52798342  -0.9905298    0.09281074 ...,  -0.18663038   0.50097048\n",
      "    0.29843731]]\n"
     ]
    }
   ],
   "source": [
    "from sklearn.model_selection import train_test_split\n",
    "\n",
    "X, y = generate_training_data()\n",
    "\n",
    "X_ = []\n",
    "\n",
    "for t in X:\n",
    "    X_.append(t[0] + t[1])\n",
    "    \n",
    "\n",
    "X_ = np.stack(X_, axis=0)\n",
    "print (X_)\n",
    "\n",
    "X_train, X_valid, y_train, y_valid = train_test_split(X_, y, test_size=0.3, random_state=1)"
   ]
  },
  {
   "cell_type": "code",
   "execution_count": 13,
   "metadata": {
    "collapsed": true
   },
   "outputs": [],
   "source": [
    "from sklearn.preprocessing import StandardScaler\n",
    "from sklearn.metrics import mean_squared_error\n",
    "sc = StandardScaler()\n",
    "sc.fit(X_train)\n",
    "X_train_std = sc.transform(X_train)\n",
    "X_valid_std = sc.transform(X_valid)"
   ]
  },
  {
   "cell_type": "code",
   "execution_count": 14,
   "metadata": {},
   "outputs": [
    {
     "name": "stdout",
     "output_type": "stream",
     "text": [
      "MSE: 0.022058\n"
     ]
    }
   ],
   "source": [
    "from sklearn.linear_model import LinearRegression\n",
    "\n",
    "regr = LinearRegression()\n",
    "regr.fit(X_train_std, y_train)\n",
    "\n",
    "y_pred = regr.predict(X_valid_std)\n",
    "print(\"MSE: %f\" % mean_squared_error(y_valid, y_pred))"
   ]
  },
  {
   "cell_type": "code",
   "execution_count": 15,
   "metadata": {},
   "outputs": [
    {
     "name": "stdout",
     "output_type": "stream",
     "text": [
      "MSE: 0.022085\n"
     ]
    }
   ],
   "source": [
    "from sklearn.linear_model import Ridge\n",
    "lr_rg = Ridge(alpha=1000)\n",
    "lr_rg.fit(X_train_std, y_train)\n",
    "    \n",
    "y_pred_rg = lr_rg.predict(X_valid_std)\n",
    "    \n",
    "print (\"MSE: %f\" % mean_squared_error(y_valid, y_pred_rg))"
   ]
  },
  {
   "cell_type": "markdown",
   "metadata": {},
   "source": [
    "from sklearn.svm import SVC\n",
    "from sklearn.metrics import accuracy_score\n",
    "\n",
    "svm_rbf = SVC(kernel='rbf', random_state=0, C=10.0, gamma=0.2)\n",
    "svm_rbf.fit(X_train_std, y_train)\n",
    "\n",
    "y_pred = svm_rbf.predict(X_valid_std)\n",
    "\n",
    "print (\"Accuracy: %.3f\" % (accuracy_score(y_valid, y_pred)))"
   ]
  },
  {
   "cell_type": "code",
   "execution_count": 16,
   "metadata": {
    "collapsed": true
   },
   "outputs": [],
   "source": [
    "import sys\n",
    "\n",
    "q_test = []\n",
    "for q_id in range(500):\n",
    "    question = questions_vec[q_id*7]\n",
    "    answer = 0\n",
    "    sim_max = sys.float_info.min\n",
    "    for i in range(1,7):\n",
    "        ans = questions_vec[q_id*7 + i]\n",
    "        #set_ = [x+y for x, y in zip(question, ans)]\n",
    "        set_ = question + ans\n",
    "        #set_ = np.array(set_)\n",
    "        result = regr.predict(set_.reshape(1,-1))\n",
    "        if result > sim_max:\n",
    "            answer = i-1\n",
    "            sim_max = result\n",
    "        \n",
    "    q_test.append((q_id, answer))"
   ]
  },
  {
   "cell_type": "code",
   "execution_count": 17,
   "metadata": {},
   "outputs": [
    {
     "name": "stdout",
     "output_type": "stream",
     "text": [
      "[(0, 4), (1, 0), (2, 3), (3, 0), (4, 0), (5, 3), (6, 2), (7, 1), (8, 0), (9, 4), (10, 0), (11, 2), (12, 3), (13, 0), (14, 2), (15, 0), (16, 4), (17, 4), (18, 0), (19, 3), (20, 0), (21, 1), (22, 4), (23, 0), (24, 3), (25, 1), (26, 2), (27, 2), (28, 3), (29, 2), (30, 5), (31, 2), (32, 3), (33, 2), (34, 4), (35, 3), (36, 4), (37, 4), (38, 1), (39, 3), (40, 3), (41, 4), (42, 4), (43, 3), (44, 3), (45, 5), (46, 4), (47, 1), (48, 3), (49, 3), (50, 5), (51, 2), (52, 5), (53, 4), (54, 2), (55, 1), (56, 3), (57, 1), (58, 0), (59, 3), (60, 0), (61, 0), (62, 3), (63, 0), (64, 4), (65, 4), (66, 4), (67, 4), (68, 3), (69, 1), (70, 1), (71, 4), (72, 0), (73, 3), (74, 4), (75, 4), (76, 1), (77, 5), (78, 1), (79, 3), (80, 5), (81, 3), (82, 2), (83, 5), (84, 3), (85, 1), (86, 2), (87, 2), (88, 2), (89, 1), (90, 0), (91, 4), (92, 2), (93, 5), (94, 5), (95, 1), (96, 1), (97, 5), (98, 3), (99, 5), (100, 2), (101, 0), (102, 0), (103, 1), (104, 0), (105, 5), (106, 5), (107, 2), (108, 3), (109, 1), (110, 4), (111, 3), (112, 0), (113, 4), (114, 5), (115, 3), (116, 0), (117, 1), (118, 1), (119, 1), (120, 4), (121, 3), (122, 0), (123, 2), (124, 3), (125, 3), (126, 3), (127, 0), (128, 1), (129, 5), (130, 1), (131, 2), (132, 3), (133, 5), (134, 3), (135, 5), (136, 2), (137, 4), (138, 3), (139, 1), (140, 5), (141, 3), (142, 4), (143, 0), (144, 0), (145, 4), (146, 3), (147, 2), (148, 1), (149, 2), (150, 0), (151, 0), (152, 1), (153, 0), (154, 1), (155, 4), (156, 1), (157, 2), (158, 1), (159, 2), (160, 2), (161, 4), (162, 0), (163, 2), (164, 1), (165, 0), (166, 3), (167, 2), (168, 1), (169, 3), (170, 1), (171, 1), (172, 2), (173, 2), (174, 5), (175, 1), (176, 3), (177, 4), (178, 4), (179, 5), (180, 2), (181, 2), (182, 5), (183, 2), (184, 2), (185, 0), (186, 5), (187, 3), (188, 4), (189, 2), (190, 5), (191, 5), (192, 2), (193, 4), (194, 2), (195, 5), (196, 0), (197, 0), (198, 3), (199, 3), (200, 1), (201, 3), (202, 4), (203, 0), (204, 2), (205, 5), (206, 3), (207, 3), (208, 3), (209, 2), (210, 0), (211, 1), (212, 5), (213, 3), (214, 5), (215, 1), (216, 5), (217, 0), (218, 3), (219, 4), (220, 2), (221, 2), (222, 5), (223, 3), (224, 2), (225, 2), (226, 3), (227, 1), (228, 1), (229, 0), (230, 3), (231, 3), (232, 0), (233, 4), (234, 4), (235, 4), (236, 4), (237, 2), (238, 0), (239, 0), (240, 5), (241, 1), (242, 1), (243, 2), (244, 0), (245, 4), (246, 3), (247, 3), (248, 2), (249, 2), (250, 5), (251, 0), (252, 4), (253, 0), (254, 3), (255, 4), (256, 3), (257, 4), (258, 3), (259, 0), (260, 2), (261, 5), (262, 3), (263, 2), (264, 4), (265, 3), (266, 3), (267, 4), (268, 4), (269, 1), (270, 0), (271, 2), (272, 2), (273, 4), (274, 5), (275, 1), (276, 1), (277, 4), (278, 3), (279, 2), (280, 2), (281, 1), (282, 2), (283, 2), (284, 2), (285, 4), (286, 4), (287, 4), (288, 5), (289, 0), (290, 3), (291, 0), (292, 1), (293, 3), (294, 3), (295, 4), (296, 4), (297, 2), (298, 0), (299, 4), (300, 0), (301, 4), (302, 0), (303, 0), (304, 0), (305, 1), (306, 2), (307, 1), (308, 0), (309, 2), (310, 3), (311, 1), (312, 5), (313, 3), (314, 5), (315, 3), (316, 4), (317, 1), (318, 3), (319, 0), (320, 1), (321, 1), (322, 3), (323, 5), (324, 1), (325, 5), (326, 3), (327, 0), (328, 0), (329, 1), (330, 4), (331, 3), (332, 3), (333, 4), (334, 2), (335, 0), (336, 0), (337, 0), (338, 1), (339, 4), (340, 2), (341, 5), (342, 4), (343, 2), (344, 2), (345, 3), (346, 0), (347, 2), (348, 5), (349, 1), (350, 4), (351, 2), (352, 1), (353, 2), (354, 0), (355, 3), (356, 0), (357, 1), (358, 4), (359, 4), (360, 2), (361, 3), (362, 4), (363, 5), (364, 0), (365, 0), (366, 4), (367, 4), (368, 2), (369, 1), (370, 0), (371, 3), (372, 2), (373, 4), (374, 1), (375, 2), (376, 1), (377, 0), (378, 2), (379, 4), (380, 1), (381, 5), (382, 3), (383, 3), (384, 3), (385, 5), (386, 2), (387, 2), (388, 2), (389, 1), (390, 4), (391, 0), (392, 5), (393, 0), (394, 2), (395, 4), (396, 5), (397, 5), (398, 5), (399, 5), (400, 5), (401, 1), (402, 4), (403, 0), (404, 0), (405, 3), (406, 5), (407, 4), (408, 5), (409, 0), (410, 2), (411, 3), (412, 4), (413, 5), (414, 1), (415, 5), (416, 2), (417, 4), (418, 5), (419, 0), (420, 1), (421, 1), (422, 0), (423, 5), (424, 3), (425, 2), (426, 3), (427, 4), (428, 1), (429, 4), (430, 3), (431, 2), (432, 2), (433, 3), (434, 2), (435, 4), (436, 5), (437, 4), (438, 4), (439, 3), (440, 0), (441, 1), (442, 2), (443, 1), (444, 1), (445, 3), (446, 0), (447, 1), (448, 5), (449, 0), (450, 1), (451, 2), (452, 5), (453, 2), (454, 0), (455, 1), (456, 0), (457, 1), (458, 1), (459, 1), (460, 5), (461, 4), (462, 0), (463, 4), (464, 4), (465, 2), (466, 4), (467, 5), (468, 2), (469, 3), (470, 1), (471, 5), (472, 2), (473, 1), (474, 0), (475, 0), (476, 5), (477, 3), (478, 1), (479, 2), (480, 3), (481, 3), (482, 3), (483, 1), (484, 2), (485, 2), (486, 3), (487, 2), (488, 5), (489, 0), (490, 4), (491, 0), (492, 3), (493, 0), (494, 4), (495, 0), (496, 0), (497, 3), (498, 5), (499, 3)]\n"
     ]
    }
   ],
   "source": [
    "print (q_test)"
   ]
  },
  {
   "cell_type": "code",
   "execution_count": 18,
   "metadata": {
    "collapsed": true
   },
   "outputs": [],
   "source": [
    "import pandas as pd\n",
    "\n",
    "df = pd.DataFrame(data=q_test, columns=['Id', 'Answer']).to_csv('Answer.csv', index=False)"
   ]
  },
  {
   "cell_type": "code",
   "execution_count": null,
   "metadata": {
    "collapsed": true
   },
   "outputs": [],
   "source": []
  }
 ],
 "metadata": {
  "kernelspec": {
   "display_name": "Python 3",
   "language": "python",
   "name": "python3"
  },
  "language_info": {
   "codemirror_mode": {
    "name": "ipython",
    "version": 3
   },
   "file_extension": ".py",
   "mimetype": "text/x-python",
   "name": "python",
   "nbconvert_exporter": "python",
   "pygments_lexer": "ipython3",
   "version": "3.6.2"
  }
 },
 "nbformat": 4,
 "nbformat_minor": 2
}
