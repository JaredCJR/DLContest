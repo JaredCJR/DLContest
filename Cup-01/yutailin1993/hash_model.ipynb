{
 "cells": [
  {
   "cell_type": "code",
   "execution_count": 1,
   "metadata": {
    "collapsed": true
   },
   "outputs": [],
   "source": [
    "import numpy as np\n",
    "import random\n",
    "from wordPreprocess import WordPreprocess\n",
    "from gensim.models import word2vec"
   ]
  },
  {
   "cell_type": "code",
   "execution_count": 2,
   "metadata": {},
   "outputs": [
    {
     "name": "stdout",
     "output_type": "stream",
     "text": [
      "Finished 100000 of lines\n",
      "Finished 200000 of lines\n",
      "Finished 300000 of lines\n",
      "Finished 400000 of lines\n",
      "Finished 500000 of lines\n",
      "Finished 600000 of lines\n",
      "Finished 700000 of lines\n",
      "Finished 800000 of lines\n",
      "Finished 900000 of lines\n",
      "Finished 1000000 of lines\n",
      "Finished 1100000 of lines\n",
      "Finished 1200000 of lines\n",
      "Finished 1300000 of lines\n",
      "Finished 1400000 of lines\n",
      "Finished 1500000 of lines\n",
      "Finished 1600000 of lines\n",
      "Finished 1700000 of lines\n",
      "Finished 1800000 of lines\n",
      "Finished 1900000 of lines\n",
      "Finished 2000000 of lines\n",
      "Finished 2100000 of lines\n",
      "Finished 2200000 of lines\n",
      "Finished 2300000 of lines\n",
      "Finished 2400000 of lines\n"
     ]
    }
   ],
   "source": [
    "programs_questions = []\n",
    "num_lines = 0\n",
    "with open('program_quesiton.txt', 'r') as inFile:\n",
    "    for line in inFile:\n",
    "        programs_questions.append(line.strip('\\n'))\n",
    "        num_lines += 1\n",
    "        \n",
    "        if num_lines % 100000 == 0:\n",
    "            print (\"Finished %d of lines\" % num_lines)\n",
    "\n",
    "word2vec_model = word2vec.Word2Vec.load('word2vec_model.bin')"
   ]
  },
  {
   "cell_type": "markdown",
   "metadata": {},
   "source": [
    "word_preprocess = WordPreprocess()\n",
    "doc_hash = word_preprocess.hash_transform(programs_questions, num_feature=2**7)\n",
    "print (doc_hash.shape)"
   ]
  },
  {
   "cell_type": "code",
   "execution_count": 3,
   "metadata": {},
   "outputs": [],
   "source": [
    "doc_vec = []\n",
    "\n",
    "for sentence in programs_questions:\n",
    "    words = sentence.split(' ')[:-1]\n",
    "    vec = np.zeros(shape=(250,), dtype=float)\n",
    "    count = 0\n",
    "    for w in words:\n",
    "        try:\n",
    "            vec += word2vec_model.wv[w]\n",
    "            count += 1\n",
    "        except KeyError:\n",
    "            pass\n",
    "        \n",
    "    #if (count > 0):\n",
    "    #    vec /= count\n",
    "    doc_vec.append(vec)"
   ]
  },
  {
   "cell_type": "code",
   "execution_count": 4,
   "metadata": {
    "collapsed": true
   },
   "outputs": [],
   "source": [
    "programs = programs_questions[:2396906]\n",
    "questions = programs_questions[2396906:]\n",
    "\n",
    "programs_vec = doc_vec[:2396906]\n",
    "questions_vec = doc_vec[2396906:]"
   ]
  },
  {
   "cell_type": "code",
   "execution_count": 5,
   "metadata": {
    "collapsed": true
   },
   "outputs": [],
   "source": [
    "def generate_training_data():\n",
    "    Xs, Ys = [], []\n",
    "    NUM_TRAIN = 50000\n",
    "    itr = 0\n",
    "    \n",
    "    while (itr < NUM_TRAIN):\n",
    "        pos_or_neg = random.randint(0,1)\n",
    "        \n",
    "        if pos_or_neg is 1:\n",
    "            line_id = random.randint(0, len(programs)-1)\n",
    "            \n",
    "            L1 = programs[line_id].split(' ')[:-1]\n",
    "            L2 = programs[line_id+1].split(' ')[:-1]\n",
    "            \n",
    "            if (not not L1 and not not L2):\n",
    "                try:\n",
    "                    Ys.append(word2vec_model.n_similarity(L1, L2))\n",
    "                    Xs.append([programs_vec[line_id], programs_vec[line_id+1]])\n",
    "                    itr += 1\n",
    "                except KeyError:\n",
    "                    pass\n",
    "            \n",
    "        else:\n",
    "            line1_id = random.randint(0, len(programs)-1)\n",
    "            line2_id = random.randint(0, len(programs)-1)\n",
    "            \n",
    "            L1 = programs[line1_id].split(' ')[:-1]\n",
    "            L2 = programs[line2_id].split(' ')[:-1]\n",
    "            \n",
    "            if (not not L1 and not not L2):\n",
    "                try:\n",
    "                    Ys.append(word2vec_model.n_similarity(L1, L2))\n",
    "                    Xs.append([programs_vec[line1_id], programs_vec[line2_id]])\n",
    "                    itr += 1\n",
    "                except KeyError:\n",
    "                    pass\n",
    "            \n",
    "    return Xs, Ys"
   ]
  },
  {
   "cell_type": "code",
   "execution_count": 6,
   "metadata": {},
   "outputs": [
    {
     "name": "stdout",
     "output_type": "stream",
     "text": [
      "[[ 0.45940848  0.11086254  2.1905546  ...,  0.55899544 -1.15995463\n",
      "  -0.58608073]\n",
      " [ 0.9027403  -0.2733466  -0.95089757 ..., -0.43828048  0.34040131\n",
      "  -1.23756212]\n",
      " [ 0.53658835  0.57887376  0.15563533 ...,  0.03989145 -0.29153352\n",
      "  -0.63411865]\n",
      " ..., \n",
      " [-0.92263036 -0.62518609 -0.17293356 ..., -1.4983478  -0.68995053\n",
      "  -0.02531062]\n",
      " [-1.34534888  0.68510633  1.31416613 ...,  1.78838082 -1.76928203\n",
      "  -2.46286844]\n",
      " [ 0.06244121  1.59397213  0.01934957 ...,  3.13745604 -0.10806985\n",
      "  -0.38324204]]\n"
     ]
    }
   ],
   "source": [
    "from sklearn.model_selection import train_test_split\n",
    "\n",
    "X, y = generate_training_data()\n",
    "\n",
    "X_ = []\n",
    "\n",
    "for t in X:\n",
    "    X_.append(t[0] + t[1])\n",
    "    \n",
    "\n",
    "X_ = np.stack(X_, axis=0)\n",
    "print (X_)\n",
    "\n",
    "X_train, X_valid, y_train, y_valid = train_test_split(X_, y, test_size=0.3, random_state=1)"
   ]
  },
  {
   "cell_type": "code",
   "execution_count": 7,
   "metadata": {},
   "outputs": [],
   "source": [
    "from sklearn.preprocessing import StandardScaler\n",
    "\n",
    "sc = StandardScaler()\n",
    "sc.fit(X_train)\n",
    "X_train_std = sc.transform(X_train)\n",
    "X_valid_std = sc.transform(X_valid)"
   ]
  },
  {
   "cell_type": "code",
   "execution_count": 8,
   "metadata": {},
   "outputs": [
    {
     "name": "stderr",
     "output_type": "stream",
     "text": [
      "/Users/larry/Py3/lib/python3.6/site-packages/scipy/linalg/basic.py:1018: RuntimeWarning: internal gelsd driver lwork query error, required iwork dimension not returned. This is likely the result of LAPACK bug 0038, fixed in LAPACK 3.2.2 (released July 21, 2010). Falling back to 'gelss' driver.\n",
      "  warnings.warn(mesg, RuntimeWarning)\n"
     ]
    }
   ],
   "source": [
    "from sklearn.linear_model import LinearRegression\n",
    "\n",
    "regr = LinearRegression()\n",
    "regr.fit(X_train_std, y_train)\n",
    "\n",
    "y_pred = regr.predict(X_valid_std)"
   ]
  },
  {
   "cell_type": "code",
   "execution_count": 9,
   "metadata": {},
   "outputs": [
    {
     "name": "stdout",
     "output_type": "stream",
     "text": [
      "MSE: 0.026736\n"
     ]
    }
   ],
   "source": [
    "from sklearn.metrics import mean_squared_error\n",
    "\n",
    "\n",
    "print(\"MSE: %f\" % mean_squared_error(y_valid, y_pred))"
   ]
  },
  {
   "cell_type": "code",
   "execution_count": 10,
   "metadata": {},
   "outputs": [
    {
     "name": "stdout",
     "output_type": "stream",
     "text": [
      "MSE: 0.026894\n"
     ]
    }
   ],
   "source": [
    "from sklearn.linear_model import Ridge\n",
    "lr_rg = Ridge(alpha=1000)\n",
    "lr_rg.fit(X_train_std, y_train)\n",
    "    \n",
    "y_pred_rg = lr_rg.predict(X_valid_std)\n",
    "    \n",
    "print (\"MSE: %f\" % mean_squared_error(y_valid, y_pred_rg))"
   ]
  },
  {
   "cell_type": "markdown",
   "metadata": {},
   "source": [
    "from sklearn.svm import SVC\n",
    "from sklearn.metrics import accuracy_score\n",
    "\n",
    "svm_rbf = SVC(kernel='rbf', random_state=0, C=10.0, gamma=0.2)\n",
    "svm_rbf.fit(X_train_std, y_train)\n",
    "\n",
    "y_pred = svm_rbf.predict(X_valid_std)\n",
    "\n",
    "print (\"Accuracy: %.3f\" % (accuracy_score(y_valid, y_pred)))"
   ]
  },
  {
   "cell_type": "code",
   "execution_count": 12,
   "metadata": {},
   "outputs": [],
   "source": [
    "import sys\n",
    "\n",
    "q_test = []\n",
    "for q_id in range(500):\n",
    "    question = questions_vec[q_id*7]\n",
    "    answer = 0\n",
    "    sim_max = sys.float_info.min\n",
    "    for i in range(1,7):\n",
    "        ans = questions_vec[q_id*7 + i]\n",
    "        #set_ = [x+y for x, y in zip(question, ans)]\n",
    "        set_ = question + ans\n",
    "        #set_ = np.array(set_)\n",
    "        result = regr.predict(set_.reshape(1,-1))\n",
    "        if result > sim_max:\n",
    "            answer = i-1\n",
    "            sim_max = result\n",
    "        \n",
    "    q_test.append((q_id, answer))"
   ]
  },
  {
   "cell_type": "code",
   "execution_count": 13,
   "metadata": {},
   "outputs": [
    {
     "name": "stdout",
     "output_type": "stream",
     "text": [
      "[(0, 4), (1, 0), (2, 3), (3, 4), (4, 3), (5, 3), (6, 1), (7, 0), (8, 0), (9, 4), (10, 4), (11, 2), (12, 5), (13, 1), (14, 5), (15, 3), (16, 4), (17, 2), (18, 5), (19, 4), (20, 5), (21, 4), (22, 0), (23, 0), (24, 5), (25, 1), (26, 0), (27, 5), (28, 2), (29, 2), (30, 2), (31, 2), (32, 5), (33, 0), (34, 1), (35, 5), (36, 1), (37, 3), (38, 4), (39, 3), (40, 0), (41, 0), (42, 2), (43, 3), (44, 5), (45, 2), (46, 0), (47, 1), (48, 0), (49, 1), (50, 2), (51, 2), (52, 5), (53, 4), (54, 5), (55, 2), (56, 3), (57, 1), (58, 3), (59, 0), (60, 2), (61, 2), (62, 4), (63, 3), (64, 3), (65, 0), (66, 4), (67, 3), (68, 2), (69, 1), (70, 5), (71, 0), (72, 3), (73, 3), (74, 5), (75, 2), (76, 5), (77, 2), (78, 1), (79, 0), (80, 5), (81, 1), (82, 2), (83, 4), (84, 1), (85, 0), (86, 3), (87, 0), (88, 2), (89, 1), (90, 4), (91, 5), (92, 1), (93, 2), (94, 3), (95, 1), (96, 0), (97, 1), (98, 2), (99, 5), (100, 0), (101, 3), (102, 3), (103, 1), (104, 1), (105, 2), (106, 2), (107, 2), (108, 2), (109, 2), (110, 0), (111, 0), (112, 3), (113, 1), (114, 4), (115, 4), (116, 3), (117, 2), (118, 0), (119, 5), (120, 2), (121, 1), (122, 0), (123, 1), (124, 5), (125, 0), (126, 3), (127, 0), (128, 0), (129, 5), (130, 1), (131, 3), (132, 0), (133, 3), (134, 4), (135, 3), (136, 3), (137, 4), (138, 4), (139, 5), (140, 2), (141, 2), (142, 3), (143, 1), (144, 2), (145, 4), (146, 2), (147, 0), (148, 4), (149, 1), (150, 0), (151, 0), (152, 0), (153, 5), (154, 2), (155, 4), (156, 3), (157, 1), (158, 0), (159, 0), (160, 4), (161, 4), (162, 5), (163, 2), (164, 1), (165, 0), (166, 2), (167, 4), (168, 1), (169, 0), (170, 1), (171, 2), (172, 3), (173, 0), (174, 4), (175, 4), (176, 3), (177, 4), (178, 4), (179, 5), (180, 3), (181, 5), (182, 1), (183, 1), (184, 4), (185, 4), (186, 2), (187, 3), (188, 5), (189, 5), (190, 1), (191, 1), (192, 2), (193, 5), (194, 1), (195, 3), (196, 0), (197, 1), (198, 4), (199, 1), (200, 0), (201, 2), (202, 2), (203, 0), (204, 3), (205, 0), (206, 5), (207, 3), (208, 3), (209, 3), (210, 4), (211, 1), (212, 3), (213, 1), (214, 3), (215, 1), (216, 0), (217, 5), (218, 3), (219, 4), (220, 2), (221, 1), (222, 0), (223, 5), (224, 3), (225, 4), (226, 4), (227, 3), (228, 5), (229, 3), (230, 0), (231, 3), (232, 3), (233, 4), (234, 3), (235, 5), (236, 2), (237, 0), (238, 0), (239, 4), (240, 3), (241, 4), (242, 0), (243, 4), (244, 4), (245, 4), (246, 0), (247, 3), (248, 2), (249, 2), (250, 0), (251, 0), (252, 5), (253, 0), (254, 3), (255, 4), (256, 1), (257, 2), (258, 2), (259, 5), (260, 5), (261, 5), (262, 3), (263, 2), (264, 4), (265, 3), (266, 1), (267, 2), (268, 4), (269, 0), (270, 0), (271, 2), (272, 1), (273, 3), (274, 0), (275, 2), (276, 2), (277, 4), (278, 3), (279, 2), (280, 5), (281, 5), (282, 2), (283, 0), (284, 1), (285, 4), (286, 0), (287, 3), (288, 5), (289, 0), (290, 4), (291, 3), (292, 1), (293, 3), (294, 4), (295, 0), (296, 2), (297, 3), (298, 1), (299, 2), (300, 1), (301, 5), (302, 1), (303, 4), (304, 4), (305, 1), (306, 1), (307, 2), (308, 2), (309, 2), (310, 2), (311, 0), (312, 0), (313, 0), (314, 4), (315, 3), (316, 1), (317, 3), (318, 0), (319, 3), (320, 1), (321, 0), (322, 5), (323, 5), (324, 0), (325, 5), (326, 5), (327, 5), (328, 1), (329, 5), (330, 1), (331, 5), (332, 2), (333, 3), (334, 0), (335, 4), (336, 4), (337, 5), (338, 2), (339, 4), (340, 5), (341, 5), (342, 2), (343, 2), (344, 5), (345, 2), (346, 5), (347, 2), (348, 5), (349, 2), (350, 5), (351, 4), (352, 4), (353, 1), (354, 0), (355, 0), (356, 5), (357, 1), (358, 2), (359, 1), (360, 3), (361, 2), (362, 3), (363, 3), (364, 3), (365, 2), (366, 4), (367, 1), (368, 0), (369, 4), (370, 4), (371, 1), (372, 2), (373, 0), (374, 2), (375, 0), (376, 0), (377, 3), (378, 2), (379, 3), (380, 1), (381, 0), (382, 3), (383, 3), (384, 1), (385, 4), (386, 0), (387, 4), (388, 2), (389, 4), (390, 4), (391, 3), (392, 1), (393, 0), (394, 3), (395, 2), (396, 3), (397, 0), (398, 2), (399, 0), (400, 2), (401, 0), (402, 5), (403, 2), (404, 0), (405, 3), (406, 1), (407, 4), (408, 5), (409, 5), (410, 5), (411, 3), (412, 5), (413, 5), (414, 5), (415, 4), (416, 2), (417, 3), (418, 5), (419, 3), (420, 3), (421, 4), (422, 0), (423, 0), (424, 4), (425, 5), (426, 5), (427, 2), (428, 3), (429, 4), (430, 0), (431, 2), (432, 5), (433, 4), (434, 0), (435, 5), (436, 3), (437, 4), (438, 5), (439, 3), (440, 3), (441, 5), (442, 1), (443, 0), (444, 1), (445, 2), (446, 4), (447, 3), (448, 2), (449, 0), (450, 0), (451, 2), (452, 1), (453, 5), (454, 0), (455, 0), (456, 3), (457, 5), (458, 1), (459, 5), (460, 1), (461, 5), (462, 1), (463, 1), (464, 1), (465, 5), (466, 3), (467, 5), (468, 0), (469, 4), (470, 1), (471, 4), (472, 3), (473, 0), (474, 5), (475, 2), (476, 5), (477, 0), (478, 1), (479, 4), (480, 2), (481, 2), (482, 2), (483, 1), (484, 0), (485, 2), (486, 2), (487, 3), (488, 5), (489, 5), (490, 3), (491, 0), (492, 5), (493, 0), (494, 2), (495, 3), (496, 4), (497, 4), (498, 1), (499, 3)]\n"
     ]
    }
   ],
   "source": [
    "print (q_test)"
   ]
  },
  {
   "cell_type": "code",
   "execution_count": 14,
   "metadata": {
    "collapsed": true
   },
   "outputs": [],
   "source": [
    "import pandas as pd\n",
    "\n",
    "df = pd.DataFrame(data=q_test, columns=['Id', 'Answer']).to_csv('Answer.csv', index=False)"
   ]
  },
  {
   "cell_type": "code",
   "execution_count": null,
   "metadata": {
    "collapsed": true
   },
   "outputs": [],
   "source": []
  }
 ],
 "metadata": {
  "kernelspec": {
   "display_name": "Python 3",
   "language": "python",
   "name": "python3"
  },
  "language_info": {
   "codemirror_mode": {
    "name": "ipython",
    "version": 3
   },
   "file_extension": ".py",
   "mimetype": "text/x-python",
   "name": "python",
   "nbconvert_exporter": "python",
   "pygments_lexer": "ipython3",
   "version": "3.6.2"
  }
 },
 "nbformat": 4,
 "nbformat_minor": 2
}
