{
 "cells": [
  {
   "cell_type": "code",
   "execution_count": 1,
   "metadata": {
    "collapsed": true
   },
   "outputs": [],
   "source": [
    "import numpy as np\n",
    "import random\n",
    "from wordPreprocess import WordPreprocess\n",
    "from gensim.models import word2vec"
   ]
  },
  {
   "cell_type": "code",
   "execution_count": 23,
   "metadata": {},
   "outputs": [
    {
     "name": "stdout",
     "output_type": "stream",
     "text": [
      "Finished 100000 of lines\n",
      "Finished 200000 of lines\n",
      "Finished 300000 of lines\n",
      "Finished 400000 of lines\n",
      "Finished 500000 of lines\n",
      "Finished 600000 of lines\n",
      "Finished 700000 of lines\n",
      "Finished 800000 of lines\n",
      "Finished 900000 of lines\n",
      "Finished 1000000 of lines\n",
      "Finished 1100000 of lines\n",
      "Finished 1200000 of lines\n",
      "Finished 1300000 of lines\n",
      "Finished 1400000 of lines\n",
      "Finished 1500000 of lines\n",
      "Finished 1600000 of lines\n",
      "Finished 1700000 of lines\n",
      "Finished 1800000 of lines\n",
      "Finished 1900000 of lines\n",
      "Finished 2000000 of lines\n",
      "Finished 2100000 of lines\n",
      "Finished 2200000 of lines\n",
      "Finished 2300000 of lines\n",
      "Finished 2400000 of lines\n"
     ]
    }
   ],
   "source": [
    "programs_questions = []\n",
    "num_lines = 0\n",
    "with open('program_quesiton.txt', 'r') as inFile:\n",
    "    for line in inFile:\n",
    "        programs_questions.append(line.strip('\\n'))\n",
    "        num_lines += 1\n",
    "        \n",
    "        if num_lines % 100000 == 0:\n",
    "            print (\"Finished %d of lines\" % num_lines)\n",
    "\n",
    "word2vec_model = word2vec.Word2Vec.load('word2vec_model.bin')"
   ]
  },
  {
   "cell_type": "code",
   "execution_count": 29,
   "metadata": {},
   "outputs": [
    {
     "name": "stdout",
     "output_type": "stream",
     "text": [
      "(2400406, 128)\n"
     ]
    }
   ],
   "source": [
    "word_preprocess = WordPreprocess()\n",
    "doc_hash = word_preprocess.hash_transform(programs_questions, num_feature=2**7)\n",
    "print (doc_hash.shape)"
   ]
  },
  {
   "cell_type": "code",
   "execution_count": 31,
   "metadata": {},
   "outputs": [],
   "source": [
    "programs = programs_questions[:2396906]\n",
    "questions = programs_questions[2396906:]\n",
    "\n",
    "programs_hash = doc_hash[:2396906]\n",
    "questions_hash = doc_hash[2396906:]\n",
    "\n",
    "del doc_hash"
   ]
  },
  {
   "cell_type": "code",
   "execution_count": 32,
   "metadata": {
    "collapsed": true
   },
   "outputs": [],
   "source": [
    "def generate_training_data():\n",
    "    Xs, Ys = [], []\n",
    "    NUM_TRAIN = 50000\n",
    "    itr = 0\n",
    "    \n",
    "    while (itr < NUM_TRAIN):\n",
    "        pos_or_neg = random.randint(0,1)\n",
    "        \n",
    "        if pos_or_neg is 1:\n",
    "            line_id = random.randint(0, len(programs)-1)\n",
    "            \n",
    "            L1 = programs[line_id].split(' ')[:-1]\n",
    "            L2 = programs[line_id].split(' ')[:-1]\n",
    "            \n",
    "            if (not not L1 and not not L2):\n",
    "                try:\n",
    "                    Ys.append(word2vec_model.n_similarity(L1, L2))\n",
    "                    Xs.append([programs_hash[line_id], programs_hash[line_id+1]])\n",
    "                    itr += 1\n",
    "                except KeyError:\n",
    "                    pass\n",
    "            \n",
    "        else:\n",
    "            line1_id = random.randint(0, len(programs)-1)\n",
    "            line2_id = random.randint(0, len(programs)-1)\n",
    "            \n",
    "            L1 = programs[line1_id].split(' ')[:-1]\n",
    "            L2 = programs[line2_id].split(' ')[:-1]\n",
    "            \n",
    "            if (not not L1 and not not L2):\n",
    "                try:\n",
    "                    Ys.append(word2vec_model.n_similarity(L1, L2))\n",
    "                    Xs.append([programs_hash[line1_id], programs_hash[line2_id]])\n",
    "                    itr += 1\n",
    "                except KeyError:\n",
    "                    pass\n",
    "            \n",
    "    return Xs, Ys"
   ]
  },
  {
   "cell_type": "code",
   "execution_count": 33,
   "metadata": {},
   "outputs": [
    {
     "name": "stdout",
     "output_type": "stream",
     "text": [
      "[[ 0.  0.  0. ...,  0.  0.  0.]\n",
      " [ 0.  0.  0. ...,  0.  0.  0.]\n",
      " [ 0.  0.  0. ...,  0.  0.  0.]\n",
      " ..., \n",
      " [ 0.  0.  0. ...,  0.  0.  0.]\n",
      " [ 0.  0.  0. ...,  0.  0.  0.]\n",
      " [ 0.  0.  0. ...,  0.  0.  0.]]\n"
     ]
    }
   ],
   "source": [
    "from sklearn.model_selection import train_test_split\n",
    "\n",
    "X, y = generate_training_data()\n",
    "\n",
    "X_ = []\n",
    "\n",
    "for t in X:\n",
    "    X_.append([x_+y_ for x_, y_ in zip(t[0], t[1])])\n",
    "\n",
    "\n",
    "X_ = np.stack(X_, axis=0)\n",
    "print (X_)\n",
    "\n",
    "X_train, X_valid, y_train, y_valid = train_test_split(X_, y, test_size=0.3, random_state=1)"
   ]
  },
  {
   "cell_type": "code",
   "execution_count": 34,
   "metadata": {},
   "outputs": [],
   "source": [
    "from sklearn.preprocessing import StandardScaler\n",
    "\n",
    "sc = StandardScaler()\n",
    "sc.fit(X_train)\n",
    "X_train_std = sc.transform(X_train)\n",
    "X_valid_std = sc.transform(X_valid)"
   ]
  },
  {
   "cell_type": "code",
   "execution_count": 35,
   "metadata": {},
   "outputs": [],
   "source": [
    "from sklearn.linear_model import LinearRegression\n",
    "\n",
    "regr = LinearRegression()\n",
    "regr.fit(X_train_std, y_train)\n",
    "\n",
    "y_pred = regr.predict(X_valid_std)"
   ]
  },
  {
   "cell_type": "code",
   "execution_count": 36,
   "metadata": {},
   "outputs": [
    {
     "name": "stdout",
     "output_type": "stream",
     "text": [
      "0.100175266324\n"
     ]
    }
   ],
   "source": [
    "from sklearn.metrics import mean_squared_error\n",
    "\n",
    "\n",
    "print(mean_squared_error(y_valid, y_pred))"
   ]
  },
  {
   "cell_type": "code",
   "execution_count": 53,
   "metadata": {},
   "outputs": [
    {
     "name": "stdout",
     "output_type": "stream",
     "text": [
      "MSE: %.4f 0.100158037967\n"
     ]
    }
   ],
   "source": [
    "from sklearn.linear_model import Ridge\n",
    "lr_rg = Ridge(alpha=a)\n",
    "lr_rg.fit(X_train_std, y_train)\n",
    "    \n",
    "y_pred_rg = lr_rg.predict(X_valid_std)\n",
    "    \n",
    "print (\"MSE: %.4f\", mean_squared_error(y_valid, y_pred_rg))"
   ]
  },
  {
   "cell_type": "markdown",
   "metadata": {},
   "source": [
    "from sklearn.svm import SVC\n",
    "from sklearn.metrics import accuracy_score\n",
    "\n",
    "svm_rbf = SVC(kernel='rbf', random_state=0, C=10.0, gamma=0.2)\n",
    "svm_rbf.fit(X_train_std, y_train)\n",
    "\n",
    "y_pred = svm_rbf.predict(X_valid_std)\n",
    "\n",
    "print (\"Accuracy: %.3f\" % (accuracy_score(y_valid, y_pred)))"
   ]
  },
  {
   "cell_type": "code",
   "execution_count": 56,
   "metadata": {},
   "outputs": [],
   "source": [
    "import sys\n",
    "\n",
    "q_test_rg = []\n",
    "for q_id in range(500):\n",
    "    question = questions_hash[q_id*7]\n",
    "    answer = 0\n",
    "    sim_max = sys.float_info.min\n",
    "    for i in range(1,7):\n",
    "        ans = questions_hash[q_id*7 + i]\n",
    "        set_ = [x+y for x, y in zip(question, ans)]\n",
    "        set_ = np.array(set_)\n",
    "        result = lr_rg.predict(set_.reshape(1,-1))\n",
    "        if result > sim_max:\n",
    "            answer = i-1\n",
    "            sim_max = result\n",
    "        \n",
    "    q_test_rg.append((q_id, answer))"
   ]
  },
  {
   "cell_type": "code",
   "execution_count": 58,
   "metadata": {},
   "outputs": [
    {
     "name": "stdout",
     "output_type": "stream",
     "text": [
      "[(0, 1), (1, 3), (2, 2), (3, 1), (4, 5), (5, 1), (6, 3), (7, 3), (8, 5), (9, 2), (10, 2), (11, 4), (12, 3), (13, 0), (14, 2), (15, 3), (16, 4), (17, 3), (18, 2), (19, 3), (20, 0), (21, 2), (22, 1), (23, 5), (24, 1), (25, 1), (26, 3), (27, 3), (28, 2), (29, 1), (30, 1), (31, 2), (32, 0), (33, 2), (34, 2), (35, 2), (36, 5), (37, 3), (38, 5), (39, 5), (40, 5), (41, 3), (42, 4), (43, 1), (44, 2), (45, 1), (46, 0), (47, 3), (48, 1), (49, 1), (50, 4), (51, 2), (52, 4), (53, 3), (54, 2), (55, 5), (56, 2), (57, 0), (58, 1), (59, 1), (60, 4), (61, 0), (62, 4), (63, 5), (64, 0), (65, 2), (66, 5), (67, 5), (68, 5), (69, 1), (70, 5), (71, 1), (72, 3), (73, 4), (74, 0), (75, 5), (76, 0), (77, 1), (78, 5), (79, 3), (80, 0), (81, 4), (82, 1), (83, 4), (84, 1), (85, 3), (86, 2), (87, 5), (88, 4), (89, 3), (90, 4), (91, 0), (92, 4), (93, 1), (94, 3), (95, 4), (96, 4), (97, 0), (98, 0), (99, 2), (100, 5), (101, 5), (102, 1), (103, 4), (104, 5), (105, 3), (106, 2), (107, 2), (108, 4), (109, 1), (110, 5), (111, 4), (112, 5), (113, 1), (114, 5), (115, 2), (116, 2), (117, 4), (118, 1), (119, 4), (120, 4), (121, 1), (122, 5), (123, 0), (124, 4), (125, 4), (126, 4), (127, 4), (128, 0), (129, 2), (130, 3), (131, 2), (132, 3), (133, 2), (134, 0), (135, 3), (136, 1), (137, 1), (138, 4), (139, 5), (140, 1), (141, 0), (142, 4), (143, 1), (144, 1), (145, 4), (146, 0), (147, 5), (148, 0), (149, 0), (150, 1), (151, 1), (152, 0), (153, 5), (154, 2), (155, 5), (156, 3), (157, 5), (158, 1), (159, 1), (160, 2), (161, 2), (162, 4), (163, 3), (164, 0), (165, 0), (166, 3), (167, 5), (168, 1), (169, 5), (170, 3), (171, 3), (172, 0), (173, 4), (174, 0), (175, 5), (176, 5), (177, 2), (178, 4), (179, 4), (180, 3), (181, 5), (182, 5), (183, 0), (184, 5), (185, 2), (186, 2), (187, 3), (188, 4), (189, 0), (190, 2), (191, 3), (192, 1), (193, 2), (194, 5), (195, 5), (196, 5), (197, 2), (198, 3), (199, 1), (200, 1), (201, 5), (202, 1), (203, 4), (204, 5), (205, 3), (206, 5), (207, 0), (208, 1), (209, 1), (210, 1), (211, 2), (212, 4), (213, 1), (214, 0), (215, 5), (216, 1), (217, 5), (218, 2), (219, 3), (220, 0), (221, 2), (222, 4), (223, 0), (224, 1), (225, 4), (226, 3), (227, 3), (228, 3), (229, 1), (230, 0), (231, 5), (232, 3), (233, 3), (234, 5), (235, 1), (236, 3), (237, 5), (238, 2), (239, 3), (240, 5), (241, 4), (242, 0), (243, 2), (244, 3), (245, 4), (246, 0), (247, 4), (248, 5), (249, 5), (250, 2), (251, 1), (252, 1), (253, 4), (254, 4), (255, 4), (256, 3), (257, 1), (258, 4), (259, 3), (260, 4), (261, 3), (262, 4), (263, 1), (264, 3), (265, 3), (266, 4), (267, 3), (268, 0), (269, 2), (270, 4), (271, 2), (272, 1), (273, 2), (274, 0), (275, 4), (276, 4), (277, 1), (278, 0), (279, 4), (280, 4), (281, 5), (282, 3), (283, 4), (284, 1), (285, 1), (286, 5), (287, 5), (288, 4), (289, 5), (290, 3), (291, 0), (292, 5), (293, 4), (294, 5), (295, 1), (296, 1), (297, 2), (298, 2), (299, 3), (300, 0), (301, 0), (302, 5), (303, 5), (304, 5), (305, 5), (306, 4), (307, 4), (308, 1), (309, 4), (310, 5), (311, 5), (312, 4), (313, 1), (314, 2), (315, 3), (316, 3), (317, 1), (318, 1), (319, 1), (320, 2), (321, 5), (322, 4), (323, 4), (324, 1), (325, 3), (326, 5), (327, 3), (328, 1), (329, 0), (330, 3), (331, 5), (332, 0), (333, 4), (334, 1), (335, 2), (336, 5), (337, 5), (338, 1), (339, 0), (340, 2), (341, 2), (342, 4), (343, 2), (344, 5), (345, 1), (346, 2), (347, 5), (348, 3), (349, 0), (350, 5), (351, 5), (352, 4), (353, 4), (354, 2), (355, 1), (356, 1), (357, 4), (358, 4), (359, 1), (360, 0), (361, 0), (362, 3), (363, 0), (364, 1), (365, 3), (366, 0), (367, 4), (368, 3), (369, 0), (370, 0), (371, 2), (372, 3), (373, 4), (374, 4), (375, 1), (376, 2), (377, 5), (378, 2), (379, 3), (380, 5), (381, 5), (382, 2), (383, 0), (384, 2), (385, 1), (386, 0), (387, 5), (388, 2), (389, 0), (390, 5), (391, 5), (392, 3), (393, 2), (394, 3), (395, 3), (396, 4), (397, 1), (398, 4), (399, 4), (400, 4), (401, 4), (402, 2), (403, 2), (404, 1), (405, 2), (406, 3), (407, 2), (408, 4), (409, 5), (410, 3), (411, 4), (412, 1), (413, 3), (414, 4), (415, 1), (416, 0), (417, 1), (418, 5), (419, 5), (420, 2), (421, 2), (422, 2), (423, 5), (424, 1), (425, 5), (426, 5), (427, 5), (428, 3), (429, 5), (430, 2), (431, 2), (432, 3), (433, 4), (434, 5), (435, 3), (436, 0), (437, 4), (438, 1), (439, 5), (440, 4), (441, 3), (442, 1), (443, 5), (444, 4), (445, 4), (446, 4), (447, 1), (448, 2), (449, 5), (450, 4), (451, 4), (452, 0), (453, 2), (454, 4), (455, 0), (456, 5), (457, 5), (458, 5), (459, 0), (460, 0), (461, 0), (462, 2), (463, 3), (464, 0), (465, 1), (466, 0), (467, 2), (468, 2), (469, 2), (470, 1), (471, 4), (472, 3), (473, 2), (474, 4), (475, 1), (476, 1), (477, 2), (478, 4), (479, 1), (480, 5), (481, 2), (482, 0), (483, 5), (484, 0), (485, 4), (486, 3), (487, 2), (488, 4), (489, 5), (490, 1), (491, 0), (492, 5), (493, 3), (494, 4), (495, 5), (496, 0), (497, 0), (498, 5), (499, 0)]\n"
     ]
    }
   ],
   "source": [
    "print (q_test_rg)"
   ]
  },
  {
   "cell_type": "code",
   "execution_count": 61,
   "metadata": {
    "collapsed": true
   },
   "outputs": [],
   "source": [
    "import pandas as pd\n",
    "\n",
    "df = pd.DataFrame(data=q_test_rg, columns=['Id', 'Answer']).to_csv('Answer.csv', index=False)"
   ]
  },
  {
   "cell_type": "code",
   "execution_count": null,
   "metadata": {
    "collapsed": true
   },
   "outputs": [],
   "source": []
  }
 ],
 "metadata": {
  "kernelspec": {
   "display_name": "Python 3",
   "language": "python",
   "name": "python3"
  },
  "language_info": {
   "codemirror_mode": {
    "name": "ipython",
    "version": 3
   },
   "file_extension": ".py",
   "mimetype": "text/x-python",
   "name": "python",
   "nbconvert_exporter": "python",
   "pygments_lexer": "ipython3",
   "version": "3.6.2"
  }
 },
 "nbformat": 4,
 "nbformat_minor": 2
}
