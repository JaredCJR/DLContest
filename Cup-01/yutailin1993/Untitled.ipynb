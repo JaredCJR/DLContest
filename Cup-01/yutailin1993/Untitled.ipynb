{
 "cells": [
  {
   "cell_type": "code",
   "execution_count": 56,
   "metadata": {
    "collapsed": true
   },
   "outputs": [],
   "source": [
    "import numpy as np"
   ]
  },
  {
   "cell_type": "code",
   "execution_count": 57,
   "metadata": {
    "collapsed": true
   },
   "outputs": [],
   "source": [
    "program1 = np.load('ex_Program1.npy')\n",
    "questions = np.load('../data/cut_Questions.npy')\n",
    "voc_dict = np.load('../data/voc_dict.npy')"
   ]
  },
  {
   "cell_type": "code",
   "execution_count": 58,
   "metadata": {},
   "outputs": [
    {
     "name": "stdout",
     "output_type": "stream",
     "text": [
      "[ list([['媽給', '你', '送', '錢', '包來', '啦', ' ', '來', ' ', '你', '看', '一下', '是', '不', '是', '這個'], ['對', ' ', '就', '是', '這個', ' ', '你', '在', '哪裡', '找', '到', '它', '的'], []])\n",
      " list(['你', '看', ' ', '這是', '我', '新', '買', '的', '錢', '包'])\n",
      " list(['我', '的', '錢', '包不見', '了', '啦'])\n",
      " list(['以後上網', '咖', '的', '錢', '包', '在', '我', '身上'])\n",
      " list(['什麼', '有', '錢', '包場'])\n",
      " list(['早上', '你', '爸爸', '在', '車上', '找', '到', '的', ' ', '一定', '是', '前天', '你', '放學', '的', '時候', '掉', '在', '車上', '了'])\n",
      " list(['我為', '什麼', '要給', '你', '們', '錢', '包'])]\n",
      "\n"
     ]
    }
   ],
   "source": [
    "print (questions[0])\n",
    "print ()\n",
    "for question in questions:\n",
    "    for i, line in enumerate(question):\n",
    "        if (i is 0):\n",
    "            ex_line = ''\n",
    "            for qline in question[i]:\n",
    "                for l in qline:\n",
    "                    for w in l:\n",
    "                        if w in voc_dict:\n",
    "                            ex_line += w+' '\n",
    "                \n",
    "            program1 = np.append(program1, ex_line)\n",
    "        else:\n",
    "            ex_line = ''\n",
    "            for w in line:\n",
    "                if w in voc_dict:\n",
    "                    ex_line += w + ' '\n",
    "            program1 = np.append(program1, ex_line)\n",
    "            "
   ]
  },
  {
   "cell_type": "code",
   "execution_count": 61,
   "metadata": {},
   "outputs": [
    {
     "name": "stdout",
     "output_type": "stream",
     "text": [
      "[vocabularies with smallest idf scores]\n",
      "謝謝: 5.77\n",
      "回來: 5.80\n",
      "一點: 5.81\n",
      "媽媽: 5.98\n",
      "爸爸: 6.10\n",
      "事情: 6.25\n",
      "這是: 6.25\n",
      "不用: 6.33\n",
      "回去: 6.40\n",
      "我要: 6.40\n"
     ]
    }
   ],
   "source": [
    "from sklearn.feature_extraction.text import TfidfVectorizer\n",
    "\n",
    "tfidf = TfidfVectorizer(ngram_range=(1,1))\n",
    "tfidf.fit(program1)\n",
    "\n",
    "top = 10\n",
    "# get idf score of vocabularies\n",
    "idf = tfidf.idf_\n",
    "print('[vocabularies with smallest idf scores]')\n",
    "sorted_idx = idf.argsort()\n",
    "for i in range(top):\n",
    "    print('%s: %.2f' % (tfidf.get_feature_names()[sorted_idx[i]], idf[sorted_idx[i]]))\n",
    "\n",
    "doc_tfidf = tfidf.transform(program1).toarray()"
   ]
  },
  {
   "cell_type": "code",
   "execution_count": 62,
   "metadata": {},
   "outputs": [
    {
     "data": {
      "text/plain": [
       "(230575, 10171)"
      ]
     },
     "execution_count": 62,
     "metadata": {},
     "output_type": "execute_result"
    }
   ],
   "source": []
  },
  {
   "cell_type": "code",
   "execution_count": null,
   "metadata": {
    "collapsed": true
   },
   "outputs": [],
   "source": []
  }
 ],
 "metadata": {
  "kernelspec": {
   "display_name": "Python 3",
   "language": "python",
   "name": "python3"
  },
  "language_info": {
   "codemirror_mode": {
    "name": "ipython",
    "version": 3
   },
   "file_extension": ".py",
   "mimetype": "text/x-python",
   "name": "python",
   "nbconvert_exporter": "python",
   "pygments_lexer": "ipython3",
   "version": "3.6.2"
  }
 },
 "nbformat": 4,
 "nbformat_minor": 2
}
