{
 "cells": [
  {
   "cell_type": "code",
   "execution_count": null,
   "metadata": {
    "collapsed": true
   },
   "outputs": [],
   "source": [
    "import numpy as np\n",
    "import random\n",
    "\n",
    "NUM_TRAIN = 20000"
   ]
  },
  {
   "cell_type": "code",
   "execution_count": null,
   "metadata": {
    "collapsed": true
   },
   "outputs": [],
   "source": [
    "tfidf = np.load('doc_tfidf1.npy')"
   ]
  },
  {
   "cell_type": "code",
   "execution_count": null,
   "metadata": {},
   "outputs": [],
   "source": [
    "program = tfidf[:227075]\n",
    "questions = tfidf[227076:]"
   ]
  },
  {
   "cell_type": "code",
   "execution_count": null,
   "metadata": {},
   "outputs": [],
   "source": [
    "def generate_training_data():\n",
    "    Xs, Ys = [], []\n",
    "    \n",
    "    for i in range(NUM_TRAIN):\n",
    "        pos_or_neg = random.randint(0,1)\n",
    "        \n",
    "        if pos_or_neg is 1:\n",
    "            line_id = random.randint(0, program.shape[0]-1)\n",
    "            \n",
    "            Xs.append([program[line_id], program[line_id+1]])\n",
    "            Ys.append(1)\n",
    "            \n",
    "        else:\n",
    "            line1_id = random.randint(0, program.shape[0]-1)\n",
    "            line2_id = random.randint(0, program.shape[0]-1)\n",
    "            \n",
    "            Xs.append([program[line1_id], program[line2_id]])\n",
    "            Ys.append(0)\n",
    "            \n",
    "    return Xs, Ys"
   ]
  },
  {
   "cell_type": "code",
   "execution_count": null,
   "metadata": {},
   "outputs": [],
   "source": [
    "from sklearn.model_selection import train_test_split\n",
    "\n",
    "X, y = generate_training_data()\n",
    "\n",
    "X_ = []\n",
    "\n",
    "for t in X:\n",
    "    X_.append([x+y for x, y in zip(t[0], t[1])])\n",
    "\n",
    "\n",
    "X_ = np.stack(X_, axis=0)\n",
    "print (X_)\n",
    "\n",
    "X_train, X_valid, y_train, y_valid = train_test_split(X_, y, test_size=0.3, random_state=1)"
   ]
  },
  {
   "cell_type": "code",
   "execution_count": null,
   "metadata": {},
   "outputs": [],
   "source": [
    "print (X_train.shape)"
   ]
  },
  {
   "cell_type": "code",
   "execution_count": null,
   "metadata": {},
   "outputs": [],
   "source": [
    "from sklearn.preprocessing import StandardScaler\n",
    "\n",
    "sc = StandardScaler()\n",
    "sc.fit(X_train)\n",
    "X_train_std = sc.transform(X_train)\n",
    "X_valid_std = sc.transform(X_valid)"
   ]
  },
  {
   "cell_type": "code",
   "execution_count": null,
   "metadata": {},
   "outputs": [],
   "source": [
    "from sklearn.svm import SVC\n",
    "from sklearn.metrics import accuracy_score\n",
    "\n",
    "svm_rbf = SVC(kernel='rbf', random_state=0, C=10.0, gamma=0.2)\n",
    "svm_rbf.fit(X_train_std, y_train)\n",
    "\n",
    "y_pred = svm_rbf.predict(X_valid_std)\n",
    "\n",
    "print (\"Accuracy: %.3f\" % (accuracy_score(y_valid, y_pred)))\n"
   ]
  },
  {
   "cell_type": "code",
   "execution_count": null,
   "metadata": {},
   "outputs": [],
   "source": [
    "from sklearn.linear_model import LogisticRegression\n",
    "\n",
    "log_r = LogisticRegression(C=1000.0, random_state=0)\n",
    "log_r.fit(X_train_std, y_train)\n",
    "y_pred_lr = log_r.predict(X_valid_std)\n",
    "\n",
    "print (\"Accuracy: %.3f\" % (accuracy_score(y_valid, y_pred_lr)))"
   ]
  },
  {
   "cell_type": "code",
   "execution_count": null,
   "metadata": {},
   "outputs": [],
   "source": [
    "from sklearn.ensemble import RandomForestClassifier\n",
    "forest = RandomForestClassifier(criterion='entropy',\n",
    "                                n_estimators=50, \n",
    "                                random_state=1,\n",
    "                                n_jobs=2)\n",
    "\n",
    "forest.fit(X_train_std, y_train)\n",
    "y_pred_f = forest.predict(X_valid_std)\n",
    "print('Accuracy: %.3f' % accuracy_score(y_valid, y_pred_f))"
   ]
  },
  {
   "cell_type": "code",
   "execution_count": null,
   "metadata": {},
   "outputs": [],
   "source": [
    "from sklearn.ensemble import AdaBoostClassifier\n",
    "from sklearn.tree import DecisionTreeClassifier\n",
    "\n",
    "tree = DecisionTreeClassifier(criterion='entropy', max_depth=1)\n",
    "ada = AdaBoostClassifier(base_estimator=tree, n_estimators=500)\n",
    "ada = ada.fit(X_train, y_train)\n",
    "y_pred_ada = ada.predict(X_valid_std)\n",
    "print('Accuracy: %.3f' % accuracy_score(y_valid, y_pred_ada))"
   ]
  },
  {
   "cell_type": "code",
   "execution_count": null,
   "metadata": {
    "collapsed": true
   },
   "outputs": [],
   "source": []
  }
 ],
 "metadata": {
  "kernelspec": {
   "display_name": "Python 3",
   "language": "python",
   "name": "python3"
  },
  "language_info": {
   "codemirror_mode": {
    "name": "ipython",
    "version": 3
   },
   "file_extension": ".py",
   "mimetype": "text/x-python",
   "name": "python",
   "nbconvert_exporter": "python",
   "pygments_lexer": "ipython3",
   "version": "3.6.2"
  }
 },
 "nbformat": 4,
 "nbformat_minor": 2
}
