{
 "cells": [
  {
   "cell_type": "code",
   "execution_count": 1,
   "metadata": {
    "collapsed": true
   },
   "outputs": [],
   "source": [
    "import pandas as pd\n",
    "\n",
    "programs = []\n",
    "\n",
    "for i in range(1, 9):\n",
    "    program = pd.read_csv('data/Program0%d.csv' % i)\n",
    "    \n",
    "    programs.append(program)\n",
    "    \n",
    "questions = pd.read_csv('data/Question.csv')"
   ]
  },
  {
   "cell_type": "code",
   "execution_count": 2,
   "metadata": {
    "collapsed": true
   },
   "outputs": [],
   "source": [
    "import jieba \n",
    "jieba.set_dictionary('data/big5_dict.txt')"
   ]
  },
  {
   "cell_type": "code",
   "execution_count": 7,
   "metadata": {
    "collapsed": true
   },
   "outputs": [],
   "source": [
    "def jieba_line(lines):\n",
    "    cut_lines = []\n",
    "    for line in lines:\n",
    "        cut_line = jieba.lcut(line)\n",
    "        cut_lines.append(cut_line)\n",
    "        \n",
    "    return cut_lines"
   ]
  },
  {
   "cell_type": "code",
   "execution_count": 10,
   "metadata": {},
   "outputs": [
    {
     "name": "stdout",
     "output_type": "stream",
     "text": [
      "8\n",
      "1299\n",
      "635\n",
      "[['還好', '天氣', '不錯'], ['昨天', '晚上', '的', '流星雨'], ['我', '看', '到', '很', '多', '流星']]\n"
     ]
    }
   ],
   "source": [
    "cut_programs = []\n",
    "\n",
    "for program in programs:\n",
    "    # number of lines in the program\n",
    "    n = len(program)\n",
    "    cut_program = []\n",
    "    \n",
    "    for i in range(n):\n",
    "        lines = program.loc[i]['Content'].split('\\n')\n",
    "        cut_program.append(jieba_line(lines))\n",
    "        \n",
    "    cut_programs.append(cut_program)\n",
    "    \n",
    "print(len(cut_programs))\n",
    "print(len(cut_programs[0]))\n",
    "print(len(cut_programs[0][0]))\n",
    "print(cut_programs[0][0][:3])\n",
    "\n"
   ]
  },
  {
   "cell_type": "code",
   "execution_count": 9,
   "metadata": {},
   "outputs": [
    {
     "name": "stdout",
     "output_type": "stream",
     "text": [
      "500\n",
      "7\n",
      "3\n",
      "[['媽給', '你', '送', '錢', '包來', '啦', ' ', '來', ' ', '你', '看', '一下', '是', '不', '是', '這個'], ['對', ' ', '就', '是', '這個', ' ', '你', '在', '哪裡', '找', '到', '它', '的'], []]\n"
     ]
    }
   ],
   "source": [
    "cut_questions = []\n",
    "n = len(questions)\n",
    "\n",
    "for i in range(n):\n",
    "    cut_question = []\n",
    "    lines = questions.loc[i]['Question'].split('\\n')\n",
    "    cut_question.append(jieba_line(lines))\n",
    "    \n",
    "    for j in range(6):\n",
    "        line = questions.loc[j]['Option%d' % (j)]\n",
    "        cut_question.append(jieba.lcut(line))\n",
    "    \n",
    "    cut_questions.append(cut_question)\n",
    "    \n",
    "print(len(cut_questions))\n",
    "print(len(cut_questions[0]))\n",
    "print(len(cut_questions[0][0]))\n",
    "print(cut_questions[0][0][:3])"
   ]
  },
  {
   "cell_type": "code",
   "execution_count": null,
   "metadata": {
    "collapsed": true
   },
   "outputs": [],
   "source": [
    "np.save('cut_Programs.npy', cut_programs)\n",
    "np.save('cut_Questions.npy', cut_questions)"
   ]
  }
 ],
 "metadata": {
  "kernelspec": {
   "display_name": "Python 3",
   "language": "python",
   "name": "python3"
  },
  "language_info": {
   "codemirror_mode": {
    "name": "ipython",
    "version": 3
   },
   "file_extension": ".py",
   "mimetype": "text/x-python",
   "name": "python",
   "nbconvert_exporter": "python",
   "pygments_lexer": "ipython3",
   "version": "3.6.2"
  }
 },
 "nbformat": 4,
 "nbformat_minor": 2
}
