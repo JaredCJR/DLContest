{
 "cells": [
  {
   "cell_type": "code",
   "execution_count": 2,
   "metadata": {
    "collapsed": true
   },
   "outputs": [],
   "source": [
    "import pandas as pd\n",
    "import numpy as np\n",
    "\n"
   ]
  },
  {
   "cell_type": "code",
   "execution_count": null,
   "metadata": {
    "collapsed": true
   },
   "outputs": [],
   "source": [
    "programs = []\n",
    "\n",
    "for i in range(1, 9):\n",
    "    program = pd.read_csv('../data/Program0%d.csv' % i)\n",
    "    \n",
    "    programs.append(program)\n",
    "    \n",
    "questions = pd.read_csv('../data/Question.csv')"
   ]
  },
  {
   "cell_type": "code",
   "execution_count": null,
   "metadata": {
    "collapsed": true
   },
   "outputs": [],
   "source": [
    "import jieba \n",
    "#jieba.set_dictionary('../data/big5_dict.txt')"
   ]
  },
  {
   "cell_type": "code",
   "execution_count": null,
   "metadata": {
    "collapsed": true
   },
   "outputs": [],
   "source": [
    "def jieba_line(lines):\n",
    "    cut_lines = []\n",
    "    for line in lines:\n",
    "        cut_line = jieba.lcut(line)\n",
    "        cut_lines.append(cut_line)\n",
    "        \n",
    "    return cut_lines"
   ]
  },
  {
   "cell_type": "code",
   "execution_count": null,
   "metadata": {
    "collapsed": true
   },
   "outputs": [],
   "source": [
    "cut_programs = []\n",
    "\n",
    "for program in programs:\n",
    "    # number of lines in the program\n",
    "    n = len(program)\n",
    "    cut_program = []\n",
    "    \n",
    "    for i in range(n):\n",
    "        lines = program.loc[i]['Content'].split('\\n')\n",
    "        cut_program.append(jieba_line(lines))\n",
    "        \n",
    "    cut_programs.append(cut_program)\n",
    "\n"
   ]
  },
  {
   "cell_type": "code",
   "execution_count": null,
   "metadata": {
    "collapsed": true
   },
   "outputs": [],
   "source": [
    "cut_questions = []\n",
    "n = len(questions)\n",
    "\n",
    "for i in range(n):\n",
    "    cut_line = []\n",
    "    cut_question = []\n",
    "    lines = questions.loc[i]['Question'].split('\\n')\n",
    "    for l in lines:\n",
    "        cut_line.append(jieba.lcut(l))\n",
    "    \n",
    "    cut_question.append(cut_line)\n",
    "    \n",
    "    for j in range(6):\n",
    "        line = questions.loc[i]['Option%d' % (j)]\n",
    "        cut_question.append(jieba.lcut(line))\n",
    "    \n",
    "    cut_questions.append(cut_question)\n",
    "    \n"
   ]
  },
  {
   "cell_type": "code",
   "execution_count": null,
   "metadata": {
    "collapsed": true
   },
   "outputs": [],
   "source": [
    "np.save('../data/cut_Programs.npy', cut_programs)\n",
    "np.save('../data/cut_Questions.npy', cut_questions)"
   ]
  },
  {
   "cell_type": "code",
   "execution_count": 3,
   "metadata": {
    "collapsed": true
   },
   "outputs": [],
   "source": [
    "stopwordset = set()\n",
    "cut_programs = np.load('../cfs01453941/cut_Programs.npy')\n",
    "cut_questions = np.load('../cfs01453941/cut_Questions.npy')\n",
    "#with open('../data/stopwords.txt', 'r', encoding='utf-8') as sw:\n",
    "#    for line in sw:\n",
    "#        stopwordset.add(line.strip('\\n'))\n",
    "        \n",
    "stopwordset.add('\\u3000')\n",
    "stopwordset.add('\\t')\n",
    "stopwordset.add(' ')"
   ]
  },
  {
   "cell_type": "code",
   "execution_count": 4,
   "metadata": {
    "scrolled": false
   },
   "outputs": [
    {
     "name": "stdout",
     "output_type": "stream",
     "text": [
      "Finished 100000 lines\n",
      "Finished 200000 lines\n",
      "Finished 300000 lines\n",
      "Finished 400000 lines\n",
      "Finished 500000 lines\n",
      "Finished 600000 lines\n",
      "Finished 700000 lines\n",
      "Finished 800000 lines\n",
      "Finished 900000 lines\n",
      "Finished 1000000 lines\n",
      "Finished 1100000 lines\n",
      "Finished 1200000 lines\n",
      "Finished 1300000 lines\n",
      "Finished 1400000 lines\n",
      "Finished 1500000 lines\n",
      "Finished 1600000 lines\n",
      "Finished 1700000 lines\n",
      "Finished 1800000 lines\n",
      "Finished 1900000 lines\n",
      "Finished 2000000 lines\n",
      "Finished 2100000 lines\n",
      "Finished 2200000 lines\n",
      "Finished 2300000 lines\n",
      "2396906\n"
     ]
    }
   ],
   "source": [
    "program_out = open('../cfs01453941/program_question.txt', 'w')\n",
    "text_num = 0\n",
    "\n",
    "for program in cut_programs:\n",
    "    for episode in program:\n",
    "        for line in episode:\n",
    "            ex_line = ''\n",
    "            for w in line:\n",
    "                if w not in stopwordset:\n",
    "                    ex_line += w + ' '\n",
    "            program_out.write(ex_line+'\\n')\n",
    "            text_num += 1\n",
    "            if (text_num % 100000 == 0):\n",
    "                print (\"Finished %d lines\" % text_num)\n",
    "\n",
    "print (text_num)"
   ]
  },
  {
   "cell_type": "code",
   "execution_count": 5,
   "metadata": {},
   "outputs": [
    {
     "name": "stdout",
     "output_type": "stream",
     "text": [
      "3500\n"
     ]
    }
   ],
   "source": [
    "q_count = 0\n",
    "for question in cut_questions:\n",
    "    for i, line in enumerate(question):\n",
    "        if (i == 0):\n",
    "            ex_line = ''\n",
    "            for qline in question[i]:\n",
    "                for w in qline:\n",
    "                    if (w not in stopwordset):\n",
    "                        ex_line += w + ' '\n",
    "            program_out.write(ex_line+'\\n')\n",
    "            q_count += 1\n",
    "        else:\n",
    "            ex_line = ''\n",
    "            for w in line:\n",
    "                if w not in stopwordset:\n",
    "                    ex_line += w + ' '\n",
    "            program_out.write(ex_line+'\\n')\n",
    "            q_count += 1\n",
    "            \n",
    "print (q_count)\n",
    "program_out.close()"
   ]
  },
  {
   "cell_type": "code",
   "execution_count": 7,
   "metadata": {},
   "outputs": [
    {
     "name": "stdout",
     "output_type": "stream",
     "text": [
      "你 看 這是 我 新 買 的 錢 包 \n",
      "\n",
      "我 的 錢 包不見 了 啦 \n",
      "\n",
      "以後上網 咖 的 錢 包 在 我 身上 \n",
      "\n",
      "什麼 有 錢 包場 \n",
      "\n",
      "早上 你 爸爸 在 車上 找 到 的 一定 是 前天 你 放學 的 時候 掉 在 車上 了 \n",
      "\n",
      "我為 什麼 要給 你 們 錢 包 \n",
      "\n",
      "古人 說 三日 不讀 書 面目 可憎 我覺 得 我 最近 可能 臉色 太難 看 了 \n",
      "\n",
      "所以 想 回 復 我 昔日 面貌 姣 好 的 樣子 \n",
      "\n",
      "是 不 是 要定 期來 舉辦 \n",
      "\n"
     ]
    }
   ],
   "source": [
    "with open('program_question.txt', 'r') as inFile:\n",
    "    for i, line in enumerate(inFile):\n",
    "        if i > 2396906 and i < 2396916:\n",
    "            print (line)"
   ]
  },
  {
   "cell_type": "code",
   "execution_count": 1,
   "metadata": {
    "collapsed": true
   },
   "outputs": [],
   "source": [
    "from gensim.models import word2vec\n",
    "\n",
    "sentences = word2vec.Text8Corpus('program_question.txt')\n",
    "\n",
    "model = word2vec.Word2Vec(sentences, hs=1, negative=0.0001, min_count=1)"
   ]
  },
  {
   "cell_type": "code",
   "execution_count": 2,
   "metadata": {
    "collapsed": true
   },
   "outputs": [],
   "source": [
    "model.save('word2vec_model.bin')"
   ]
  },
  {
   "cell_type": "code",
   "execution_count": null,
   "metadata": {
    "collapsed": true
   },
   "outputs": [],
   "source": []
  }
 ],
 "metadata": {
  "kernelspec": {
   "display_name": "Python 3",
   "language": "python",
   "name": "python3"
  },
  "language_info": {
   "codemirror_mode": {
    "name": "ipython",
    "version": 3
   },
   "file_extension": ".py",
   "mimetype": "text/x-python",
   "name": "python",
   "nbconvert_exporter": "python",
   "pygments_lexer": "ipython3",
   "version": "3.6.2"
  }
 },
 "nbformat": 4,
 "nbformat_minor": 2
}
